{
 "cells": [
  {
   "cell_type": "markdown",
   "metadata": {},
   "source": [
    "## 12-Nov-2023, [Chelsea vs MC](https://www.fotmob.com/matches/chelsea-vs-manchester-city/2d55kw#4193574)"
   ]
  },
  {
   "cell_type": "markdown",
   "metadata": {},
   "source": [
    "### Read data from Dmytro"
   ]
  },
  {
   "cell_type": "code",
   "execution_count": 27,
   "metadata": {},
   "outputs": [
    {
     "data": {
      "text/html": [
       "<div>\n",
       "<style scoped>\n",
       "    .dataframe tbody tr th:only-of-type {\n",
       "        vertical-align: middle;\n",
       "    }\n",
       "\n",
       "    .dataframe tbody tr th {\n",
       "        vertical-align: top;\n",
       "    }\n",
       "\n",
       "    .dataframe thead th {\n",
       "        text-align: right;\n",
       "    }\n",
       "</style>\n",
       "<table border=\"1\" class=\"dataframe\">\n",
       "  <thead>\n",
       "    <tr style=\"text-align: right;\">\n",
       "      <th></th>\n",
       "      <th>league</th>\n",
       "      <th>season</th>\n",
       "      <th>game</th>\n",
       "      <th>id</th>\n",
       "      <th>game_id</th>\n",
       "      <th>period</th>\n",
       "      <th>minute</th>\n",
       "      <th>second</th>\n",
       "      <th>expanded_minute</th>\n",
       "      <th>type</th>\n",
       "      <th>...</th>\n",
       "      <th>goal_mouth_z</th>\n",
       "      <th>blocked_x</th>\n",
       "      <th>blocked_y</th>\n",
       "      <th>qualifiers</th>\n",
       "      <th>is_touch</th>\n",
       "      <th>is_shot</th>\n",
       "      <th>is_goal</th>\n",
       "      <th>card_type</th>\n",
       "      <th>related_event_id</th>\n",
       "      <th>related_player_id</th>\n",
       "    </tr>\n",
       "  </thead>\n",
       "  <tbody>\n",
       "    <tr>\n",
       "      <th>0</th>\n",
       "      <td>ENG-Premier League</td>\n",
       "      <td>2324</td>\n",
       "      <td>2023-11-12 Chelsea-Manchester City</td>\n",
       "      <td>2617209451</td>\n",
       "      <td>1729243</td>\n",
       "      <td>PreMatch</td>\n",
       "      <td>0</td>\n",
       "      <td>0.0</td>\n",
       "      <td>0</td>\n",
       "      <td>FormationSet</td>\n",
       "      <td>...</td>\n",
       "      <td>NaN</td>\n",
       "      <td>NaN</td>\n",
       "      <td>NaN</td>\n",
       "      <td>[{'type': {'displayName': 'TeamFormation', 'va...</td>\n",
       "      <td>False</td>\n",
       "      <td>NaN</td>\n",
       "      <td>NaN</td>\n",
       "      <td>NaN</td>\n",
       "      <td>NaN</td>\n",
       "      <td>NaN</td>\n",
       "    </tr>\n",
       "    <tr>\n",
       "      <th>1</th>\n",
       "      <td>ENG-Premier League</td>\n",
       "      <td>2324</td>\n",
       "      <td>2023-11-12 Chelsea-Manchester City</td>\n",
       "      <td>2617209477</td>\n",
       "      <td>1729243</td>\n",
       "      <td>PreMatch</td>\n",
       "      <td>0</td>\n",
       "      <td>0.0</td>\n",
       "      <td>0</td>\n",
       "      <td>FormationSet</td>\n",
       "      <td>...</td>\n",
       "      <td>NaN</td>\n",
       "      <td>NaN</td>\n",
       "      <td>NaN</td>\n",
       "      <td>[{'type': {'displayName': 'JerseyNumber', 'val...</td>\n",
       "      <td>False</td>\n",
       "      <td>NaN</td>\n",
       "      <td>NaN</td>\n",
       "      <td>NaN</td>\n",
       "      <td>NaN</td>\n",
       "      <td>NaN</td>\n",
       "    </tr>\n",
       "    <tr>\n",
       "      <th>2</th>\n",
       "      <td>ENG-Premier League</td>\n",
       "      <td>2324</td>\n",
       "      <td>2023-11-12 Chelsea-Manchester City</td>\n",
       "      <td>2617287459</td>\n",
       "      <td>1729243</td>\n",
       "      <td>FirstHalf</td>\n",
       "      <td>0</td>\n",
       "      <td>0.0</td>\n",
       "      <td>0</td>\n",
       "      <td>Start</td>\n",
       "      <td>...</td>\n",
       "      <td>NaN</td>\n",
       "      <td>NaN</td>\n",
       "      <td>NaN</td>\n",
       "      <td>[]</td>\n",
       "      <td>False</td>\n",
       "      <td>NaN</td>\n",
       "      <td>NaN</td>\n",
       "      <td>NaN</td>\n",
       "      <td>NaN</td>\n",
       "      <td>NaN</td>\n",
       "    </tr>\n",
       "    <tr>\n",
       "      <th>3</th>\n",
       "      <td>ENG-Premier League</td>\n",
       "      <td>2324</td>\n",
       "      <td>2023-11-12 Chelsea-Manchester City</td>\n",
       "      <td>2617287467</td>\n",
       "      <td>1729243</td>\n",
       "      <td>FirstHalf</td>\n",
       "      <td>0</td>\n",
       "      <td>0.0</td>\n",
       "      <td>0</td>\n",
       "      <td>Start</td>\n",
       "      <td>...</td>\n",
       "      <td>NaN</td>\n",
       "      <td>NaN</td>\n",
       "      <td>NaN</td>\n",
       "      <td>[]</td>\n",
       "      <td>False</td>\n",
       "      <td>NaN</td>\n",
       "      <td>NaN</td>\n",
       "      <td>NaN</td>\n",
       "      <td>NaN</td>\n",
       "      <td>NaN</td>\n",
       "    </tr>\n",
       "    <tr>\n",
       "      <th>4</th>\n",
       "      <td>ENG-Premier League</td>\n",
       "      <td>2324</td>\n",
       "      <td>2023-11-12 Chelsea-Manchester City</td>\n",
       "      <td>2617287487</td>\n",
       "      <td>1729243</td>\n",
       "      <td>FirstHalf</td>\n",
       "      <td>0</td>\n",
       "      <td>0.0</td>\n",
       "      <td>0</td>\n",
       "      <td>Pass</td>\n",
       "      <td>...</td>\n",
       "      <td>NaN</td>\n",
       "      <td>NaN</td>\n",
       "      <td>NaN</td>\n",
       "      <td>[{'type': {'displayName': 'Zone', 'value': 56}...</td>\n",
       "      <td>True</td>\n",
       "      <td>NaN</td>\n",
       "      <td>NaN</td>\n",
       "      <td>NaN</td>\n",
       "      <td>NaN</td>\n",
       "      <td>NaN</td>\n",
       "    </tr>\n",
       "  </tbody>\n",
       "</table>\n",
       "<p>5 rows × 30 columns</p>\n",
       "</div>"
      ],
      "text/plain": [
       "               league  season                                game          id  \\\n",
       "0  ENG-Premier League    2324  2023-11-12 Chelsea-Manchester City  2617209451   \n",
       "1  ENG-Premier League    2324  2023-11-12 Chelsea-Manchester City  2617209477   \n",
       "2  ENG-Premier League    2324  2023-11-12 Chelsea-Manchester City  2617287459   \n",
       "3  ENG-Premier League    2324  2023-11-12 Chelsea-Manchester City  2617287467   \n",
       "4  ENG-Premier League    2324  2023-11-12 Chelsea-Manchester City  2617287487   \n",
       "\n",
       "   game_id     period  minute  second  expanded_minute          type  ...  \\\n",
       "0  1729243   PreMatch       0     0.0                0  FormationSet  ...   \n",
       "1  1729243   PreMatch       0     0.0                0  FormationSet  ...   \n",
       "2  1729243  FirstHalf       0     0.0                0         Start  ...   \n",
       "3  1729243  FirstHalf       0     0.0                0         Start  ...   \n",
       "4  1729243  FirstHalf       0     0.0                0          Pass  ...   \n",
       "\n",
       "  goal_mouth_z  blocked_x blocked_y  \\\n",
       "0          NaN        NaN       NaN   \n",
       "1          NaN        NaN       NaN   \n",
       "2          NaN        NaN       NaN   \n",
       "3          NaN        NaN       NaN   \n",
       "4          NaN        NaN       NaN   \n",
       "\n",
       "                                          qualifiers is_touch  is_shot  \\\n",
       "0  [{'type': {'displayName': 'TeamFormation', 'va...    False      NaN   \n",
       "1  [{'type': {'displayName': 'JerseyNumber', 'val...    False      NaN   \n",
       "2                                                 []    False      NaN   \n",
       "3                                                 []    False      NaN   \n",
       "4  [{'type': {'displayName': 'Zone', 'value': 56}...     True      NaN   \n",
       "\n",
       "   is_goal  card_type  related_event_id  related_player_id  \n",
       "0      NaN        NaN               NaN                NaN  \n",
       "1      NaN        NaN               NaN                NaN  \n",
       "2      NaN        NaN               NaN                NaN  \n",
       "3      NaN        NaN               NaN                NaN  \n",
       "4      NaN        NaN               NaN                NaN  \n",
       "\n",
       "[5 rows x 30 columns]"
      ]
     },
     "execution_count": 27,
     "metadata": {},
     "output_type": "execute_result"
    }
   ],
   "source": [
    "import pandas as pd\n",
    "df = pd.read_csv('data/12112023/events_1729243.csv')\n",
    "df['player_id'] = df['player_id'].astype('Int32')\n",
    "df.head()"
   ]
  },
  {
   "cell_type": "code",
   "execution_count": 38,
   "metadata": {},
   "outputs": [
    {
     "data": {
      "text/plain": [
       "array(['FormationSet', 'Start', 'Pass', 'BallTouch', 'SavedShot', 'Save',\n",
       "       'Aerial', 'Challenge', 'TakeOn', 'BallRecovery', 'BlockedPass',\n",
       "       'Foul', 'Dispossessed', 'Tackle', 'Interception', 'CornerAwarded',\n",
       "       'Claim', 'Clearance', 'KeeperPickup', 'Card', 'Goal',\n",
       "       'PenaltyFaced', 'MissedShots', 'Error', 'End', 'SubstitutionOff',\n",
       "       'SubstitutionOn', 'FormationChange', 'KeeperSweeper',\n",
       "       'ShieldBallOpp', 'OffsideProvoked', 'OffsidePass', 'OffsideGiven'],\n",
       "      dtype=object)"
      ]
     },
     "execution_count": 38,
     "metadata": {},
     "output_type": "execute_result"
    }
   ],
   "source": [
    "# type of events available\n",
    "df['type'].unique()"
   ]
  },
  {
   "cell_type": "code",
   "execution_count": 33,
   "metadata": {},
   "outputs": [
    {
     "data": {
      "text/plain": [
       "14"
      ]
     },
     "execution_count": 33,
     "metadata": {},
     "output_type": "execute_result"
    }
   ],
   "source": [
    "df_shots = df[df['type'].isin(['Goal', 'MissedShots'])]\n",
    "len(df_shots)\n",
    "# This is weird, there were ~ 17+15 shots.\n",
    "# I think some of them are classified as \"passes\", and then we have to look at \"col 24 - qualifiers\""
   ]
  },
  {
   "cell_type": "code",
   "execution_count": 34,
   "metadata": {},
   "outputs": [
    {
     "data": {
      "text/plain": [
       "player_id  player          \n",
       "313171     Rúben Dias          108\n",
       "303139     Rodri               107\n",
       "402664     Josko Gvardiol       90\n",
       "300426     Axel Disasi          88\n",
       "69778      Kyle Walker          82\n",
       "297390     Manuel Akanji        78\n",
       "136741     Bernardo Silva       77\n",
       "97692      Raheem Sterling      74\n",
       "375621     Conor Gallagher      73\n",
       "331254     Phil Foden           70\n",
       "363496     Marc Cucurella       68\n",
       "28550      Thiago Silva         67\n",
       "395692     Cole Palmer          60\n",
       "362151     Robert Sánchez       60\n",
       "369430     Enzo Fernández       59\n",
       "121774     Ederson              59\n",
       "361330     Reece James          56\n",
       "365409     Julián Álvarez       54\n",
       "410175     Moisés Caicedo       51\n",
       "388098     Jérémy Doku          39\n",
       "113069     Jack Grealish        36\n",
       "403850     Malo Gusto           34\n",
       "426050     Nicolas Jackson      28\n",
       "315227     Erling Haaland       27\n",
       "93894      Mateo Kovacic        19\n",
       "409376     Mykhailo Mudryk      10\n",
       "393407     Armando Broja         6\n",
       "404616     Lesley Ugochukwu      1\n",
       "<NA>       NaN                   0\n",
       "Name: player_id, dtype: Int64"
      ]
     },
     "execution_count": 34,
     "metadata": {},
     "output_type": "execute_result"
    }
   ],
   "source": [
    "# Events per player\n",
    "df.groupby(['player_id', 'player'], dropna=False)['player_id'].count().sort_values(ascending=False)"
   ]
  },
  {
   "cell_type": "markdown",
   "metadata": {},
   "source": [
    "## Simple Visualization Examples"
   ]
  },
  {
   "cell_type": "code",
   "execution_count": 54,
   "metadata": {},
   "outputs": [
    {
     "data": {
      "image/png": "[encoded data removed]",
      "text/plain": [
       "<Figure size 640x480 with 1 Axes>"
      ]
     },
     "metadata": {},
     "output_type": "display_data"
    }
   ],
   "source": [
    "from mplsoccer.pitch import Pitch\n",
    "\n",
    "# points that led to a goal at event #530\n",
    "shot = 530\n",
    "df_shot = df[shot-4:shot+1].copy()\n",
    "df_shot['color'] = 'red'\n",
    "df_shot.loc[shot, 'color'] = 'green'\n",
    "\n",
    "pitch = Pitch(pitch_type='statsbomb',\n",
    "              pitch_color='white', \n",
    "              line_color='#c7d5cc')\n",
    "\n",
    "fig, ax = pitch.draw()\n",
    "\n",
    "_ = pitch.scatter(x=df_shot['x'].to_list(), \n",
    "                  y=df_shot['y'].to_list(),\n",
    "                  color=df_shot['color'].to_list(),\n",
    "                  ax=ax)"
   ]
  },
  {
   "cell_type": "code",
   "execution_count": 55,
   "metadata": {},
   "outputs": [
    {
     "data": {
      "image/png": "[encoded data removed]",
      "text/plain": [
       "<Figure size 600x450 with 1 Axes>"
      ]
     },
     "metadata": {},
     "output_type": "display_data"
    }
   ],
   "source": [
    "import matplotsoccer\n",
    "\n",
    "a = df_shot\n",
    "\n",
    "# Plot the actions\n",
    "def nice_time(row):\n",
    "    return f\"{row.minute}m{row.second}s\"\n",
    "\n",
    "a[\"nice_time\"] = a.apply(nice_time, axis=1)\n",
    "labels = a[[\"nice_time\", \"type\", \"player\", \"team\"]]\n",
    "\n",
    "ax = matplotsoccer.actions(\n",
    "    location=a[[\"x\", \"y\", \"end_x\", \"end_y\"]],\n",
    "    action_type=a.type,\n",
    "    team= a.team,\n",
    "    result= a.outcome_type == \"Successful\",\n",
    "    label=labels,\n",
    "    labeltitle=[\"time\", \"actiontype\", \"player\", \"team\"],\n",
    "    zoom=False,\n",
    "    figsize=6\n",
    ")"
   ]
  },
  {
   "cell_type": "markdown",
   "metadata": {},
   "source": [
    "# Loading data from WhoScored (via soccerdata cache)"
   ]
  },
  {
   "cell_type": "code",
   "execution_count": 9,
   "metadata": {},
   "outputs": [
    {
     "name": "stdout",
     "output_type": "stream",
     "text": [
      "/Users/ivn/Documents/projects/fa_ucu/Manchester-City/src/../data/soccerdata_cache\n"
     ]
    },
    {
     "data": {
      "text/html": [
       "<pre style=\"white-space:pre;overflow-x:auto;line-height:normal;font-family:Menlo,'DejaVu Sans Mono',consolas,'Courier New',monospace\"><span style=\"color: #7fbfbf; text-decoration-color: #7fbfbf\">[12/27/23 23:41:50] </span><span style=\"color: #000080; text-decoration-color: #000080\">INFO    </span> Saving cached data to                                                    <a href=\"file:///usr/local/lib/python3.11/site-packages/soccerdata/_common.py\" target=\"_blank\"><span style=\"color: #7f7f7f; text-decoration-color: #7f7f7f\">_common.py</span></a><span style=\"color: #7f7f7f; text-decoration-color: #7f7f7f\">:</span><a href=\"file:///usr/local/lib/python3.11/site-packages/soccerdata/_common.py#91\" target=\"_blank\"><span style=\"color: #7f7f7f; text-decoration-color: #7f7f7f\">91</span></a>\n",
       "<span style=\"color: #7fbfbf; text-decoration-color: #7fbfbf\">                    </span>         <span style=\"color: #800080; text-decoration-color: #800080\">/Users/ivn/Documents/projects/fa_ucu/Manchester-City/src/../data/</span><span style=\"color: #ff00ff; text-decoration-color: #ff00ff\">soccerd</span> <span style=\"color: #7f7f7f; text-decoration-color: #7f7f7f\">             </span>\n",
       "<span style=\"color: #7fbfbf; text-decoration-color: #7fbfbf\">                    </span>         <span style=\"color: #ff00ff; text-decoration-color: #ff00ff\">ata_cache</span>                                                                <span style=\"color: #7f7f7f; text-decoration-color: #7f7f7f\">             </span>\n",
       "</pre>\n"
      ],
      "text/plain": [
       "\u001b[2;36m[12/27/23 23:41:50]\u001b[0m\u001b[2;36m \u001b[0m\u001b[34mINFO    \u001b[0m Saving cached data to                                                    \u001b]8;id=271522;file:///usr/local/lib/python3.11/site-packages/soccerdata/_common.py\u001b\\\u001b[2m_common.py\u001b[0m\u001b]8;;\u001b\\\u001b[2m:\u001b[0m\u001b]8;id=674728;file:///usr/local/lib/python3.11/site-packages/soccerdata/_common.py#91\u001b\\\u001b[2m91\u001b[0m\u001b]8;;\u001b\\\n",
       "\u001b[2;36m                    \u001b[0m         \u001b[35m/Users/ivn/Documents/projects/fa_ucu/Manchester-City/src/../data/\u001b[0m\u001b[95msoccerd\u001b[0m \u001b[2m             \u001b[0m\n",
       "\u001b[2;36m                    \u001b[0m         \u001b[95mata_cache\u001b[0m                                                                \u001b[2m             \u001b[0m\n"
      ]
     },
     "metadata": {},
     "output_type": "display_data"
    },
    {
     "data": {
      "text/html": [
       "<pre style=\"white-space:pre;overflow-x:auto;line-height:normal;font-family:Menlo,'DejaVu Sans Mono',consolas,'Courier New',monospace\"><span style=\"color: #7fbfbf; text-decoration-color: #7fbfbf\">[12/27/23 23:41:51] </span><span style=\"color: #000080; text-decoration-color: #000080\">INFO    </span> patching driver executable <span style=\"color: #800080; text-decoration-color: #800080\">/Users/ivn/Library/</span><span style=\"color: #ff00ff; text-decoration-color: #ff00ff\">Application</span>               <a href=\"file:///usr/local/lib/python3.11/site-packages/undetected_chromedriver/patcher.py\" target=\"_blank\"><span style=\"color: #7f7f7f; text-decoration-color: #7f7f7f\">patcher.py</span></a><span style=\"color: #7f7f7f; text-decoration-color: #7f7f7f\">:</span><a href=\"file:///usr/local/lib/python3.11/site-packages/undetected_chromedriver/patcher.py#346\" target=\"_blank\"><span style=\"color: #7f7f7f; text-decoration-color: #7f7f7f\">346</span></a>\n",
       "<span style=\"color: #7fbfbf; text-decoration-color: #7fbfbf\">                    </span>         Support/undetected_chromedriver/undetected_chromedriver                 <span style=\"color: #7f7f7f; text-decoration-color: #7f7f7f\">              </span>\n",
       "</pre>\n"
      ],
      "text/plain": [
       "\u001b[2;36m[12/27/23 23:41:51]\u001b[0m\u001b[2;36m \u001b[0m\u001b[34mINFO    \u001b[0m patching driver executable \u001b[35m/Users/ivn/Library/\u001b[0m\u001b[95mApplication\u001b[0m               \u001b]8;id=750519;file:///usr/local/lib/python3.11/site-packages/undetected_chromedriver/patcher.py\u001b\\\u001b[2mpatcher.py\u001b[0m\u001b]8;;\u001b\\\u001b[2m:\u001b[0m\u001b]8;id=3615;file:///usr/local/lib/python3.11/site-packages/undetected_chromedriver/patcher.py#346\u001b\\\u001b[2m346\u001b[0m\u001b]8;;\u001b\\\n",
       "\u001b[2;36m                    \u001b[0m         Support/undetected_chromedriver/undetected_chromedriver                 \u001b[2m              \u001b[0m\n"
      ]
     },
     "metadata": {},
     "output_type": "display_data"
    }
   ],
   "source": [
    "import soccerdata as sd\n",
    "import os\n",
    "from pathlib import Path\n",
    "\n",
    "# https://www.whoscored.com/Matches/1729243/Live/England-Premier-League-2023-2024-Chelsea-Manchester-City\n",
    "\n",
    "data_dir=Path(f\"{os.getcwd()}/../data/soccerdata_cache\")\n",
    "ws = sd.WhoScored(leagues=\"ENG-Premier League\", seasons=\"23-24\", data_dir=data_dir)"
   ]
  },
  {
   "cell_type": "code",
   "execution_count": 11,
   "metadata": {},
   "outputs": [
    {
     "data": {
      "text/html": [
       "<pre style=\"white-space:pre;overflow-x:auto;line-height:normal;font-family:Menlo,'DejaVu Sans Mono',consolas,'Courier New',monospace\"><span style=\"color: #7fbfbf; text-decoration-color: #7fbfbf\">[12/27/23 23:45:50] </span><span style=\"color: #000080; text-decoration-color: #000080\">INFO    </span> Retrieving game schedule of ENG-Premier League - <span style=\"color: #008080; text-decoration-color: #008080; font-weight: bold\">2324</span> from the cache  <a href=\"file:///usr/local/lib/python3.11/site-packages/soccerdata/whoscored.py\" target=\"_blank\"><span style=\"color: #7f7f7f; text-decoration-color: #7f7f7f\">whoscored.py</span></a><span style=\"color: #7f7f7f; text-decoration-color: #7f7f7f\">:</span><a href=\"file:///usr/local/lib/python3.11/site-packages/soccerdata/whoscored.py#437\" target=\"_blank\"><span style=\"color: #7f7f7f; text-decoration-color: #7f7f7f\">437</span></a>\n",
       "</pre>\n"
      ],
      "text/plain": [
       "\u001b[2;36m[12/27/23 23:45:50]\u001b[0m\u001b[2;36m \u001b[0m\u001b[34mINFO    \u001b[0m Retrieving game schedule of ENG-Premier League - \u001b[1;36m2324\u001b[0m from the cache  \u001b]8;id=183040;file:///usr/local/lib/python3.11/site-packages/soccerdata/whoscored.py\u001b\\\u001b[2mwhoscored.py\u001b[0m\u001b]8;;\u001b\\\u001b[2m:\u001b[0m\u001b]8;id=323263;file:///usr/local/lib/python3.11/site-packages/soccerdata/whoscored.py#437\u001b\\\u001b[2m437\u001b[0m\u001b]8;;\u001b\\\n"
      ]
     },
     "metadata": {},
     "output_type": "display_data"
    }
   ],
   "source": [
    "# read it here once so we can force cache later\n",
    "epl_schedule = ws.read_schedule(force_cache=True)"
   ]
  },
  {
   "cell_type": "code",
   "execution_count": 12,
   "metadata": {},
   "outputs": [
    {
     "data": {
      "text/html": [
       "<pre style=\"white-space:pre;overflow-x:auto;line-height:normal;font-family:Menlo,'DejaVu Sans Mono',consolas,'Courier New',monospace\"><span style=\"color: #7fbfbf; text-decoration-color: #7fbfbf\">[12/27/23 23:46:13] </span><span style=\"color: #000080; text-decoration-color: #000080\">INFO    </span> Retrieving game schedule of ENG-Premier League - <span style=\"color: #008080; text-decoration-color: #008080; font-weight: bold\">2324</span> from the cache  <a href=\"file:///usr/local/lib/python3.11/site-packages/soccerdata/whoscored.py\" target=\"_blank\"><span style=\"color: #7f7f7f; text-decoration-color: #7f7f7f\">whoscored.py</span></a><span style=\"color: #7f7f7f; text-decoration-color: #7f7f7f\">:</span><a href=\"file:///usr/local/lib/python3.11/site-packages/soccerdata/whoscored.py#437\" target=\"_blank\"><span style=\"color: #7f7f7f; text-decoration-color: #7f7f7f\">437</span></a>\n",
       "</pre>\n"
      ],
      "text/plain": [
       "\u001b[2;36m[12/27/23 23:46:13]\u001b[0m\u001b[2;36m \u001b[0m\u001b[34mINFO    \u001b[0m Retrieving game schedule of ENG-Premier League - \u001b[1;36m2324\u001b[0m from the cache  \u001b]8;id=343565;file:///usr/local/lib/python3.11/site-packages/soccerdata/whoscored.py\u001b\\\u001b[2mwhoscored.py\u001b[0m\u001b]8;;\u001b\\\u001b[2m:\u001b[0m\u001b]8;id=402557;file:///usr/local/lib/python3.11/site-packages/soccerdata/whoscored.py#437\u001b\\\u001b[2m437\u001b[0m\u001b]8;;\u001b\\\n"
      ]
     },
     "metadata": {},
     "output_type": "display_data"
    },
    {
     "data": {
      "text/html": [
       "<pre style=\"white-space:pre;overflow-x:auto;line-height:normal;font-family:Menlo,'DejaVu Sans Mono',consolas,'Courier New',monospace\"><span style=\"color: #7fbfbf; text-decoration-color: #7fbfbf\">                    </span><span style=\"color: #000080; text-decoration-color: #000080\">INFO    </span> <span style=\"font-weight: bold\">[</span><span style=\"color: #008080; text-decoration-color: #008080; font-weight: bold\">1</span>/<span style=\"color: #008080; text-decoration-color: #008080; font-weight: bold\">1</span><span style=\"font-weight: bold\">]</span> Retrieving game with <span style=\"color: #808000; text-decoration-color: #808000\">id</span>=<span style=\"color: #008080; text-decoration-color: #008080; font-weight: bold\">1729243</span>                                 <a href=\"file:///usr/local/lib/python3.11/site-packages/soccerdata/whoscored.py\" target=\"_blank\"><span style=\"color: #7f7f7f; text-decoration-color: #7f7f7f\">whoscored.py</span></a><span style=\"color: #7f7f7f; text-decoration-color: #7f7f7f\">:</span><a href=\"file:///usr/local/lib/python3.11/site-packages/soccerdata/whoscored.py#693\" target=\"_blank\"><span style=\"color: #7f7f7f; text-decoration-color: #7f7f7f\">693</span></a>\n",
       "</pre>\n"
      ],
      "text/plain": [
       "\u001b[2;36m                   \u001b[0m\u001b[2;36m \u001b[0m\u001b[34mINFO    \u001b[0m \u001b[1m[\u001b[0m\u001b[1;36m1\u001b[0m/\u001b[1;36m1\u001b[0m\u001b[1m]\u001b[0m Retrieving game with \u001b[33mid\u001b[0m=\u001b[1;36m1729243\u001b[0m                                 \u001b]8;id=53391;file:///usr/local/lib/python3.11/site-packages/soccerdata/whoscored.py\u001b\\\u001b[2mwhoscored.py\u001b[0m\u001b]8;;\u001b\\\u001b[2m:\u001b[0m\u001b]8;id=997124;file:///usr/local/lib/python3.11/site-packages/soccerdata/whoscored.py#693\u001b\\\u001b[2m693\u001b[0m\u001b]8;;\u001b\\\n"
      ]
     },
     "metadata": {},
     "output_type": "display_data"
    },
    {
     "data": {
      "text/html": [
       "<pre style=\"white-space:pre;overflow-x:auto;line-height:normal;font-family:Menlo,'DejaVu Sans Mono',consolas,'Courier New',monospace\"><span style=\"color: #7fbfbf; text-decoration-color: #7fbfbf\">[12/27/23 23:46:25] </span><span style=\"color: #000080; text-decoration-color: #000080\">INFO    </span> Retrieving game schedule of ENG-Premier League - <span style=\"color: #008080; text-decoration-color: #008080; font-weight: bold\">2324</span> from the cache  <a href=\"file:///usr/local/lib/python3.11/site-packages/soccerdata/whoscored.py\" target=\"_blank\"><span style=\"color: #7f7f7f; text-decoration-color: #7f7f7f\">whoscored.py</span></a><span style=\"color: #7f7f7f; text-decoration-color: #7f7f7f\">:</span><a href=\"file:///usr/local/lib/python3.11/site-packages/soccerdata/whoscored.py#437\" target=\"_blank\"><span style=\"color: #7f7f7f; text-decoration-color: #7f7f7f\">437</span></a>\n",
       "</pre>\n"
      ],
      "text/plain": [
       "\u001b[2;36m[12/27/23 23:46:25]\u001b[0m\u001b[2;36m \u001b[0m\u001b[34mINFO    \u001b[0m Retrieving game schedule of ENG-Premier League - \u001b[1;36m2324\u001b[0m from the cache  \u001b]8;id=959528;file:///usr/local/lib/python3.11/site-packages/soccerdata/whoscored.py\u001b\\\u001b[2mwhoscored.py\u001b[0m\u001b]8;;\u001b\\\u001b[2m:\u001b[0m\u001b]8;id=774282;file:///usr/local/lib/python3.11/site-packages/soccerdata/whoscored.py#437\u001b\\\u001b[2m437\u001b[0m\u001b]8;;\u001b\\\n"
      ]
     },
     "metadata": {},
     "output_type": "display_data"
    },
    {
     "data": {
      "text/html": [
       "<pre style=\"white-space:pre;overflow-x:auto;line-height:normal;font-family:Menlo,'DejaVu Sans Mono',consolas,'Courier New',monospace\"><span style=\"color: #7fbfbf; text-decoration-color: #7fbfbf\">                    </span><span style=\"color: #000080; text-decoration-color: #000080\">INFO    </span> <span style=\"font-weight: bold\">[</span><span style=\"color: #008080; text-decoration-color: #008080; font-weight: bold\">1</span>/<span style=\"color: #008080; text-decoration-color: #008080; font-weight: bold\">1</span><span style=\"font-weight: bold\">]</span> Retrieving game with <span style=\"color: #808000; text-decoration-color: #808000\">id</span>=<span style=\"color: #008080; text-decoration-color: #008080; font-weight: bold\">1729243</span>                                 <a href=\"file:///usr/local/lib/python3.11/site-packages/soccerdata/whoscored.py\" target=\"_blank\"><span style=\"color: #7f7f7f; text-decoration-color: #7f7f7f\">whoscored.py</span></a><span style=\"color: #7f7f7f; text-decoration-color: #7f7f7f\">:</span><a href=\"file:///usr/local/lib/python3.11/site-packages/soccerdata/whoscored.py#693\" target=\"_blank\"><span style=\"color: #7f7f7f; text-decoration-color: #7f7f7f\">693</span></a>\n",
       "</pre>\n"
      ],
      "text/plain": [
       "\u001b[2;36m                   \u001b[0m\u001b[2;36m \u001b[0m\u001b[34mINFO    \u001b[0m \u001b[1m[\u001b[0m\u001b[1;36m1\u001b[0m/\u001b[1;36m1\u001b[0m\u001b[1m]\u001b[0m Retrieving game with \u001b[33mid\u001b[0m=\u001b[1;36m1729243\u001b[0m                                 \u001b]8;id=143358;file:///usr/local/lib/python3.11/site-packages/soccerdata/whoscored.py\u001b\\\u001b[2mwhoscored.py\u001b[0m\u001b]8;;\u001b\\\u001b[2m:\u001b[0m\u001b]8;id=348985;file:///usr/local/lib/python3.11/site-packages/soccerdata/whoscored.py#693\u001b\\\u001b[2m693\u001b[0m\u001b]8;;\u001b\\\n"
      ]
     },
     "metadata": {},
     "output_type": "display_data"
    },
    {
     "data": {
      "text/html": [
       "<pre style=\"white-space:pre;overflow-x:auto;line-height:normal;font-family:Menlo,'DejaVu Sans Mono',consolas,'Courier New',monospace\"><span style=\"color: #7fbfbf; text-decoration-color: #7fbfbf\">[12/27/23 23:46:26] </span><span style=\"color: #000080; text-decoration-color: #000080\">INFO    </span> Retrieving game schedule of ENG-Premier League - <span style=\"color: #008080; text-decoration-color: #008080; font-weight: bold\">2324</span> from the cache  <a href=\"file:///usr/local/lib/python3.11/site-packages/soccerdata/whoscored.py\" target=\"_blank\"><span style=\"color: #7f7f7f; text-decoration-color: #7f7f7f\">whoscored.py</span></a><span style=\"color: #7f7f7f; text-decoration-color: #7f7f7f\">:</span><a href=\"file:///usr/local/lib/python3.11/site-packages/soccerdata/whoscored.py#437\" target=\"_blank\"><span style=\"color: #7f7f7f; text-decoration-color: #7f7f7f\">437</span></a>\n",
       "</pre>\n"
      ],
      "text/plain": [
       "\u001b[2;36m[12/27/23 23:46:26]\u001b[0m\u001b[2;36m \u001b[0m\u001b[34mINFO    \u001b[0m Retrieving game schedule of ENG-Premier League - \u001b[1;36m2324\u001b[0m from the cache  \u001b]8;id=271531;file:///usr/local/lib/python3.11/site-packages/soccerdata/whoscored.py\u001b\\\u001b[2mwhoscored.py\u001b[0m\u001b]8;;\u001b\\\u001b[2m:\u001b[0m\u001b]8;id=739878;file:///usr/local/lib/python3.11/site-packages/soccerdata/whoscored.py#437\u001b\\\u001b[2m437\u001b[0m\u001b]8;;\u001b\\\n"
      ]
     },
     "metadata": {},
     "output_type": "display_data"
    },
    {
     "data": {
      "text/html": [
       "<pre style=\"white-space:pre;overflow-x:auto;line-height:normal;font-family:Menlo,'DejaVu Sans Mono',consolas,'Courier New',monospace\"><span style=\"color: #7fbfbf; text-decoration-color: #7fbfbf\">                    </span><span style=\"color: #000080; text-decoration-color: #000080\">INFO    </span> <span style=\"font-weight: bold\">[</span><span style=\"color: #008080; text-decoration-color: #008080; font-weight: bold\">1</span>/<span style=\"color: #008080; text-decoration-color: #008080; font-weight: bold\">1</span><span style=\"font-weight: bold\">]</span> Retrieving game with <span style=\"color: #808000; text-decoration-color: #808000\">id</span>=<span style=\"color: #008080; text-decoration-color: #008080; font-weight: bold\">1729243</span>                                 <a href=\"file:///usr/local/lib/python3.11/site-packages/soccerdata/whoscored.py\" target=\"_blank\"><span style=\"color: #7f7f7f; text-decoration-color: #7f7f7f\">whoscored.py</span></a><span style=\"color: #7f7f7f; text-decoration-color: #7f7f7f\">:</span><a href=\"file:///usr/local/lib/python3.11/site-packages/soccerdata/whoscored.py#693\" target=\"_blank\"><span style=\"color: #7f7f7f; text-decoration-color: #7f7f7f\">693</span></a>\n",
       "</pre>\n"
      ],
      "text/plain": [
       "\u001b[2;36m                   \u001b[0m\u001b[2;36m \u001b[0m\u001b[34mINFO    \u001b[0m \u001b[1m[\u001b[0m\u001b[1;36m1\u001b[0m/\u001b[1;36m1\u001b[0m\u001b[1m]\u001b[0m Retrieving game with \u001b[33mid\u001b[0m=\u001b[1;36m1729243\u001b[0m                                 \u001b]8;id=251321;file:///usr/local/lib/python3.11/site-packages/soccerdata/whoscored.py\u001b\\\u001b[2mwhoscored.py\u001b[0m\u001b]8;;\u001b\\\u001b[2m:\u001b[0m\u001b]8;id=601820;file:///usr/local/lib/python3.11/site-packages/soccerdata/whoscored.py#693\u001b\\\u001b[2m693\u001b[0m\u001b]8;;\u001b\\\n"
      ]
     },
     "metadata": {},
     "output_type": "display_data"
    },
    {
     "data": {
      "text/html": [
       "<pre style=\"white-space:pre;overflow-x:auto;line-height:normal;font-family:Menlo,'DejaVu Sans Mono',consolas,'Courier New',monospace\"><span style=\"color: #7fbfbf; text-decoration-color: #7fbfbf\">                    </span><span style=\"color: #000080; text-decoration-color: #000080\">INFO    </span> Retrieving game schedule of ENG-Premier League - <span style=\"color: #008080; text-decoration-color: #008080; font-weight: bold\">2324</span> from the cache  <a href=\"file:///usr/local/lib/python3.11/site-packages/soccerdata/whoscored.py\" target=\"_blank\"><span style=\"color: #7f7f7f; text-decoration-color: #7f7f7f\">whoscored.py</span></a><span style=\"color: #7f7f7f; text-decoration-color: #7f7f7f\">:</span><a href=\"file:///usr/local/lib/python3.11/site-packages/soccerdata/whoscored.py#437\" target=\"_blank\"><span style=\"color: #7f7f7f; text-decoration-color: #7f7f7f\">437</span></a>\n",
       "</pre>\n"
      ],
      "text/plain": [
       "\u001b[2;36m                   \u001b[0m\u001b[2;36m \u001b[0m\u001b[34mINFO    \u001b[0m Retrieving game schedule of ENG-Premier League - \u001b[1;36m2324\u001b[0m from the cache  \u001b]8;id=248434;file:///usr/local/lib/python3.11/site-packages/soccerdata/whoscored.py\u001b\\\u001b[2mwhoscored.py\u001b[0m\u001b]8;;\u001b\\\u001b[2m:\u001b[0m\u001b]8;id=462894;file:///usr/local/lib/python3.11/site-packages/soccerdata/whoscored.py#437\u001b\\\u001b[2m437\u001b[0m\u001b]8;;\u001b\\\n"
      ]
     },
     "metadata": {},
     "output_type": "display_data"
    },
    {
     "data": {
      "text/html": [
       "<pre style=\"white-space:pre;overflow-x:auto;line-height:normal;font-family:Menlo,'DejaVu Sans Mono',consolas,'Courier New',monospace\"><span style=\"color: #7fbfbf; text-decoration-color: #7fbfbf\">                    </span><span style=\"color: #000080; text-decoration-color: #000080\">INFO    </span> <span style=\"font-weight: bold\">[</span><span style=\"color: #008080; text-decoration-color: #008080; font-weight: bold\">1</span>/<span style=\"color: #008080; text-decoration-color: #008080; font-weight: bold\">1</span><span style=\"font-weight: bold\">]</span> Retrieving game with <span style=\"color: #808000; text-decoration-color: #808000\">id</span>=<span style=\"color: #008080; text-decoration-color: #008080; font-weight: bold\">1729243</span>                                 <a href=\"file:///usr/local/lib/python3.11/site-packages/soccerdata/whoscored.py\" target=\"_blank\"><span style=\"color: #7f7f7f; text-decoration-color: #7f7f7f\">whoscored.py</span></a><span style=\"color: #7f7f7f; text-decoration-color: #7f7f7f\">:</span><a href=\"file:///usr/local/lib/python3.11/site-packages/soccerdata/whoscored.py#693\" target=\"_blank\"><span style=\"color: #7f7f7f; text-decoration-color: #7f7f7f\">693</span></a>\n",
       "</pre>\n"
      ],
      "text/plain": [
       "\u001b[2;36m                   \u001b[0m\u001b[2;36m \u001b[0m\u001b[34mINFO    \u001b[0m \u001b[1m[\u001b[0m\u001b[1;36m1\u001b[0m/\u001b[1;36m1\u001b[0m\u001b[1m]\u001b[0m Retrieving game with \u001b[33mid\u001b[0m=\u001b[1;36m1729243\u001b[0m                                 \u001b]8;id=234289;file:///usr/local/lib/python3.11/site-packages/soccerdata/whoscored.py\u001b\\\u001b[2mwhoscored.py\u001b[0m\u001b]8;;\u001b\\\u001b[2m:\u001b[0m\u001b]8;id=910363;file:///usr/local/lib/python3.11/site-packages/soccerdata/whoscored.py#693\u001b\\\u001b[2m693\u001b[0m\u001b]8;;\u001b\\\n"
      ]
     },
     "metadata": {},
     "output_type": "display_data"
    }
   ],
   "source": [
    "GAME_ID=1729243\n",
    "events_raw = ws.read_events(match_id=GAME_ID, force_cache=True, output_fmt=\"raw\")\n",
    "events_spadl = ws.read_events(match_id=GAME_ID, force_cache=True, output_fmt=\"spadl\")\n",
    "events_atomic_spadl = ws.read_events(match_id=GAME_ID, force_cache=True, output_fmt=\"atomic-spadl\")\n",
    "events = ws.read_events(match_id=GAME_ID, force_cache=True, output_fmt=\"events\")"
   ]
  },
  {
   "cell_type": "code",
   "execution_count": 13,
   "metadata": {},
   "outputs": [
    {
     "data": {
      "text/html": [
       "<pre style=\"white-space:pre;overflow-x:auto;line-height:normal;font-family:Menlo,'DejaVu Sans Mono',consolas,'Courier New',monospace\"><span style=\"color: #7fbfbf; text-decoration-color: #7fbfbf\">[12/27/23 23:48:07] </span><span style=\"color: #000080; text-decoration-color: #000080\">INFO    </span> Retrieving game schedule of ENG-Premier League - <span style=\"color: #008080; text-decoration-color: #008080; font-weight: bold\">2324</span> from the cache  <a href=\"file:///usr/local/lib/python3.11/site-packages/soccerdata/whoscored.py\" target=\"_blank\"><span style=\"color: #7f7f7f; text-decoration-color: #7f7f7f\">whoscored.py</span></a><span style=\"color: #7f7f7f; text-decoration-color: #7f7f7f\">:</span><a href=\"file:///usr/local/lib/python3.11/site-packages/soccerdata/whoscored.py#437\" target=\"_blank\"><span style=\"color: #7f7f7f; text-decoration-color: #7f7f7f\">437</span></a>\n",
       "</pre>\n"
      ],
      "text/plain": [
       "\u001b[2;36m[12/27/23 23:48:07]\u001b[0m\u001b[2;36m \u001b[0m\u001b[34mINFO    \u001b[0m Retrieving game schedule of ENG-Premier League - \u001b[1;36m2324\u001b[0m from the cache  \u001b]8;id=985882;file:///usr/local/lib/python3.11/site-packages/soccerdata/whoscored.py\u001b\\\u001b[2mwhoscored.py\u001b[0m\u001b]8;;\u001b\\\u001b[2m:\u001b[0m\u001b]8;id=429509;file:///usr/local/lib/python3.11/site-packages/soccerdata/whoscored.py#437\u001b\\\u001b[2m437\u001b[0m\u001b]8;;\u001b\\\n"
      ]
     },
     "metadata": {},
     "output_type": "display_data"
    },
    {
     "data": {
      "text/html": [
       "<pre style=\"white-space:pre;overflow-x:auto;line-height:normal;font-family:Menlo,'DejaVu Sans Mono',consolas,'Courier New',monospace\"><span style=\"color: #7fbfbf; text-decoration-color: #7fbfbf\">                    </span><span style=\"color: #000080; text-decoration-color: #000080\">INFO    </span> <span style=\"font-weight: bold\">[</span><span style=\"color: #008080; text-decoration-color: #008080; font-weight: bold\">1</span>/<span style=\"color: #008080; text-decoration-color: #008080; font-weight: bold\">1</span><span style=\"font-weight: bold\">]</span> Retrieving game with <span style=\"color: #808000; text-decoration-color: #808000\">id</span>=<span style=\"color: #008080; text-decoration-color: #008080; font-weight: bold\">1729243</span>                                 <a href=\"file:///usr/local/lib/python3.11/site-packages/soccerdata/whoscored.py\" target=\"_blank\"><span style=\"color: #7f7f7f; text-decoration-color: #7f7f7f\">whoscored.py</span></a><span style=\"color: #7f7f7f; text-decoration-color: #7f7f7f\">:</span><a href=\"file:///usr/local/lib/python3.11/site-packages/soccerdata/whoscored.py#538\" target=\"_blank\"><span style=\"color: #7f7f7f; text-decoration-color: #7f7f7f\">538</span></a>\n",
       "</pre>\n"
      ],
      "text/plain": [
       "\u001b[2;36m                   \u001b[0m\u001b[2;36m \u001b[0m\u001b[34mINFO    \u001b[0m \u001b[1m[\u001b[0m\u001b[1;36m1\u001b[0m/\u001b[1;36m1\u001b[0m\u001b[1m]\u001b[0m Retrieving game with \u001b[33mid\u001b[0m=\u001b[1;36m1729243\u001b[0m                                 \u001b]8;id=841036;file:///usr/local/lib/python3.11/site-packages/soccerdata/whoscored.py\u001b\\\u001b[2mwhoscored.py\u001b[0m\u001b]8;;\u001b\\\u001b[2m:\u001b[0m\u001b]8;id=895594;file:///usr/local/lib/python3.11/site-packages/soccerdata/whoscored.py#538\u001b\\\u001b[2m538\u001b[0m\u001b]8;;\u001b\\\n"
      ]
     },
     "metadata": {},
     "output_type": "display_data"
    }
   ],
   "source": [
    "missing_players = ws.read_missing_players(match_id=1729243, force_cache=True)"
   ]
  },
  {
   "cell_type": "code",
   "execution_count": 15,
   "metadata": {},
   "outputs": [
    {
     "name": "stdout",
     "output_type": "stream",
     "text": [
      "pass\n"
     ]
    },
    {
     "data": {
      "text/html": [
       "<div>\n",
       "<style scoped>\n",
       "    .dataframe tbody tr th:only-of-type {\n",
       "        vertical-align: middle;\n",
       "    }\n",
       "\n",
       "    .dataframe tbody tr th {\n",
       "        vertical-align: top;\n",
       "    }\n",
       "\n",
       "    .dataframe thead th {\n",
       "        text-align: right;\n",
       "    }\n",
       "</style>\n",
       "<table border=\"1\" class=\"dataframe\">\n",
       "  <thead>\n",
       "    <tr style=\"text-align: right;\">\n",
       "      <th></th>\n",
       "      <th>game_id</th>\n",
       "      <th>original_event_id</th>\n",
       "      <th>period_id</th>\n",
       "      <th>time_seconds</th>\n",
       "      <th>team_id</th>\n",
       "      <th>player_id</th>\n",
       "      <th>start_x</th>\n",
       "      <th>end_x</th>\n",
       "      <th>start_y</th>\n",
       "      <th>end_y</th>\n",
       "      <th>type_id</th>\n",
       "      <th>result_id</th>\n",
       "      <th>bodypart_id</th>\n",
       "      <th>action_id</th>\n",
       "      <th>player</th>\n",
       "      <th>team</th>\n",
       "    </tr>\n",
       "  </thead>\n",
       "  <tbody>\n",
       "    <tr>\n",
       "      <th>0</th>\n",
       "      <td>1729243</td>\n",
       "      <td>2617287487</td>\n",
       "      <td>1</td>\n",
       "      <td>0.0</td>\n",
       "      <td>15</td>\n",
       "      <td>426050.0</td>\n",
       "      <td>52.920</td>\n",
       "      <td>47.145</td>\n",
       "      <td>33.524</td>\n",
       "      <td>30.260</td>\n",
       "      <td>0</td>\n",
       "      <td>1</td>\n",
       "      <td>0</td>\n",
       "      <td>0</td>\n",
       "      <td>Nicolas Jackson</td>\n",
       "      <td>Chelsea</td>\n",
       "    </tr>\n",
       "    <tr>\n",
       "      <th>1</th>\n",
       "      <td>1729243</td>\n",
       "      <td>2617287575</td>\n",
       "      <td>1</td>\n",
       "      <td>1.0</td>\n",
       "      <td>15</td>\n",
       "      <td>369430.0</td>\n",
       "      <td>49.875</td>\n",
       "      <td>63.840</td>\n",
       "      <td>29.920</td>\n",
       "      <td>2.176</td>\n",
       "      <td>0</td>\n",
       "      <td>1</td>\n",
       "      <td>0</td>\n",
       "      <td>1</td>\n",
       "      <td>Enzo Fernández</td>\n",
       "      <td>Chelsea</td>\n",
       "    </tr>\n",
       "    <tr>\n",
       "      <th>2</th>\n",
       "      <td>1729243</td>\n",
       "      <td>NaN</td>\n",
       "      <td>1</td>\n",
       "      <td>3.0</td>\n",
       "      <td>15</td>\n",
       "      <td>361330.0</td>\n",
       "      <td>63.840</td>\n",
       "      <td>45.780</td>\n",
       "      <td>2.176</td>\n",
       "      <td>7.276</td>\n",
       "      <td>21</td>\n",
       "      <td>1</td>\n",
       "      <td>0</td>\n",
       "      <td>2</td>\n",
       "      <td>Reece James</td>\n",
       "      <td>Chelsea</td>\n",
       "    </tr>\n",
       "  </tbody>\n",
       "</table>\n",
       "</div>"
      ],
      "text/plain": [
       "   game_id original_event_id  period_id  time_seconds  team_id  player_id  \\\n",
       "0  1729243        2617287487          1           0.0       15   426050.0   \n",
       "1  1729243        2617287575          1           1.0       15   369430.0   \n",
       "2  1729243               NaN          1           3.0       15   361330.0   \n",
       "\n",
       "   start_x   end_x  start_y   end_y  type_id  result_id  bodypart_id  \\\n",
       "0   52.920  47.145   33.524  30.260        0          1            0   \n",
       "1   49.875  63.840   29.920   2.176        0          1            0   \n",
       "2   63.840  45.780    2.176   7.276       21          1            0   \n",
       "\n",
       "   action_id           player     team  \n",
       "0          0  Nicolas Jackson  Chelsea  \n",
       "1          1   Enzo Fernández  Chelsea  \n",
       "2          2      Reece James  Chelsea  "
      ]
     },
     "execution_count": 15,
     "metadata": {},
     "output_type": "execute_result"
    }
   ],
   "source": [
    "import socceraction\n",
    "\n",
    "# use\n",
    "# socceraction.spadl.config.actiontypes\n",
    "# socceraction.spadl.config.results\n",
    "# socceraction.spadl.config.bodyparts\n",
    "# to interpret values\n",
    "# e.g.\n",
    "print(socceraction.spadl.config.actiontypes[0])\n",
    "events_spadl[:3]"
   ]
  },
  {
   "cell_type": "code",
   "execution_count": 14,
   "metadata": {},
   "outputs": [
    {
     "data": {
      "text/html": [
       "<div>\n",
       "<style scoped>\n",
       "    .dataframe tbody tr th:only-of-type {\n",
       "        vertical-align: middle;\n",
       "    }\n",
       "\n",
       "    .dataframe tbody tr th {\n",
       "        vertical-align: top;\n",
       "    }\n",
       "\n",
       "    .dataframe thead th {\n",
       "        text-align: right;\n",
       "    }\n",
       "</style>\n",
       "<table border=\"1\" class=\"dataframe\">\n",
       "  <thead>\n",
       "    <tr style=\"text-align: right;\">\n",
       "      <th></th>\n",
       "      <th></th>\n",
       "      <th></th>\n",
       "      <th></th>\n",
       "      <th></th>\n",
       "      <th>game_id</th>\n",
       "      <th>player_id</th>\n",
       "      <th>reason</th>\n",
       "      <th>status</th>\n",
       "    </tr>\n",
       "    <tr>\n",
       "      <th>league</th>\n",
       "      <th>season</th>\n",
       "      <th>game</th>\n",
       "      <th>team</th>\n",
       "      <th>player</th>\n",
       "      <th></th>\n",
       "      <th></th>\n",
       "      <th></th>\n",
       "      <th></th>\n",
       "    </tr>\n",
       "  </thead>\n",
       "  <tbody>\n",
       "    <tr>\n",
       "      <th rowspan=\"11\" valign=\"top\">ENG-Premier League</th>\n",
       "      <th rowspan=\"11\" valign=\"top\">2324</th>\n",
       "      <th rowspan=\"11\" valign=\"top\">2023-11-12 Chelsea-Manchester City</th>\n",
       "      <th rowspan=\"7\" valign=\"top\">Chelsea</th>\n",
       "      <th>Armando Broja</th>\n",
       "      <td>1729243</td>\n",
       "      <td>393407</td>\n",
       "      <td>injured doubtful</td>\n",
       "      <td>Doubtful</td>\n",
       "    </tr>\n",
       "    <tr>\n",
       "      <th>Ben Chilwell</th>\n",
       "      <td>1729243</td>\n",
       "      <td>299272</td>\n",
       "      <td>injured</td>\n",
       "      <td>Out</td>\n",
       "    </tr>\n",
       "    <tr>\n",
       "      <th>Carney Chukwuemeka</th>\n",
       "      <td>1729243</td>\n",
       "      <td>410639</td>\n",
       "      <td>injured</td>\n",
       "      <td>Out</td>\n",
       "    </tr>\n",
       "    <tr>\n",
       "      <th>Christopher Nkunku</th>\n",
       "      <td>1729243</td>\n",
       "      <td>300945</td>\n",
       "      <td>injured</td>\n",
       "      <td>Out</td>\n",
       "    </tr>\n",
       "    <tr>\n",
       "      <th>RomÃ©o Lavia</th>\n",
       "      <td>1729243</td>\n",
       "      <td>425319</td>\n",
       "      <td>injured</td>\n",
       "      <td>Out</td>\n",
       "    </tr>\n",
       "    <tr>\n",
       "      <th>Trevoh Chalobah</th>\n",
       "      <td>1729243</td>\n",
       "      <td>353292</td>\n",
       "      <td>injured</td>\n",
       "      <td>Out</td>\n",
       "    </tr>\n",
       "    <tr>\n",
       "      <th>Wesley Fofana</th>\n",
       "      <td>1729243</td>\n",
       "      <td>373946</td>\n",
       "      <td>injured</td>\n",
       "      <td>Out</td>\n",
       "    </tr>\n",
       "    <tr>\n",
       "      <th rowspan=\"4\" valign=\"top\">Manchester City</th>\n",
       "      <th>John Stones</th>\n",
       "      <td>1729243</td>\n",
       "      <td>101374</td>\n",
       "      <td>injured</td>\n",
       "      <td>Out</td>\n",
       "    </tr>\n",
       "    <tr>\n",
       "      <th>Kevin De Bruyne</th>\n",
       "      <td>1729243</td>\n",
       "      <td>73084</td>\n",
       "      <td>injured</td>\n",
       "      <td>Out</td>\n",
       "    </tr>\n",
       "    <tr>\n",
       "      <th>Manuel Akanji</th>\n",
       "      <td>1729243</td>\n",
       "      <td>297390</td>\n",
       "      <td>injured doubtful</td>\n",
       "      <td>Doubtful</td>\n",
       "    </tr>\n",
       "    <tr>\n",
       "      <th>Sergio GÃ³mez</th>\n",
       "      <td>1729243</td>\n",
       "      <td>355110</td>\n",
       "      <td>injured</td>\n",
       "      <td>Out</td>\n",
       "    </tr>\n",
       "  </tbody>\n",
       "</table>\n",
       "</div>"
      ],
      "text/plain": [
       "                                                                                                 game_id  \\\n",
       "league             season game                               team            player                        \n",
       "ENG-Premier League 2324   2023-11-12 Chelsea-Manchester City Chelsea         Armando Broja       1729243   \n",
       "                                                                             Ben Chilwell        1729243   \n",
       "                                                                             Carney Chukwuemeka  1729243   \n",
       "                                                                             Christopher Nkunku  1729243   \n",
       "                                                                             RomÃ©o Lavia        1729243   \n",
       "                                                                             Trevoh Chalobah     1729243   \n",
       "                                                                             Wesley Fofana       1729243   \n",
       "                                                             Manchester City John Stones         1729243   \n",
       "                                                                             Kevin De Bruyne     1729243   \n",
       "                                                                             Manuel Akanji       1729243   \n",
       "                                                                             Sergio GÃ³mez       1729243   \n",
       "\n",
       "                                                                                                 player_id  \\\n",
       "league             season game                               team            player                          \n",
       "ENG-Premier League 2324   2023-11-12 Chelsea-Manchester City Chelsea         Armando Broja          393407   \n",
       "                                                                             Ben Chilwell           299272   \n",
       "                                                                             Carney Chukwuemeka     410639   \n",
       "                                                                             Christopher Nkunku     300945   \n",
       "                                                                             RomÃ©o Lavia           425319   \n",
       "                                                                             Trevoh Chalobah        353292   \n",
       "                                                                             Wesley Fofana          373946   \n",
       "                                                             Manchester City John Stones            101374   \n",
       "                                                                             Kevin De Bruyne         73084   \n",
       "                                                                             Manuel Akanji          297390   \n",
       "                                                                             Sergio GÃ³mez          355110   \n",
       "\n",
       "                                                                                                           reason  \\\n",
       "league             season game                               team            player                                 \n",
       "ENG-Premier League 2324   2023-11-12 Chelsea-Manchester City Chelsea         Armando Broja       injured doubtful   \n",
       "                                                                             Ben Chilwell                 injured   \n",
       "                                                                             Carney Chukwuemeka           injured   \n",
       "                                                                             Christopher Nkunku           injured   \n",
       "                                                                             RomÃ©o Lavia                 injured   \n",
       "                                                                             Trevoh Chalobah              injured   \n",
       "                                                                             Wesley Fofana                injured   \n",
       "                                                             Manchester City John Stones                  injured   \n",
       "                                                                             Kevin De Bruyne              injured   \n",
       "                                                                             Manuel Akanji       injured doubtful   \n",
       "                                                                             Sergio GÃ³mez                injured   \n",
       "\n",
       "                                                                                                   status  \n",
       "league             season game                               team            player                        \n",
       "ENG-Premier League 2324   2023-11-12 Chelsea-Manchester City Chelsea         Armando Broja       Doubtful  \n",
       "                                                                             Ben Chilwell             Out  \n",
       "                                                                             Carney Chukwuemeka       Out  \n",
       "                                                                             Christopher Nkunku       Out  \n",
       "                                                                             RomÃ©o Lavia             Out  \n",
       "                                                                             Trevoh Chalobah          Out  \n",
       "                                                                             Wesley Fofana            Out  \n",
       "                                                             Manchester City John Stones              Out  \n",
       "                                                                             Kevin De Bruyne          Out  \n",
       "                                                                             Manuel Akanji       Doubtful  \n",
       "                                                                             Sergio GÃ³mez            Out  "
      ]
     },
     "execution_count": 14,
     "metadata": {},
     "output_type": "execute_result"
    }
   ],
   "source": [
    "missing_players"
   ]
  }
 ],
 "metadata": {
  "kernelspec": {
   "display_name": "Python 3",
   "language": "python",
   "name": "python3"
  },
  "language_info": {
   "codemirror_mode": {
    "name": "ipython",
    "version": 3
   },
   "file_extension": ".py",
   "mimetype": "text/x-python",
   "name": "python",
   "nbconvert_exporter": "python",
   "pygments_lexer": "ipython3",
   "version": "3.11.6"
  }
 },
 "nbformat": 4,
 "nbformat_minor": 2
}
