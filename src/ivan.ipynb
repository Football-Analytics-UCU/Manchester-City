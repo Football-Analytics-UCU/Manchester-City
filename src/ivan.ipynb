{
 "cells": [
  {
   "cell_type": "markdown",
   "metadata": {},
   "source": [
    "## 12-Nov-2023, [Chelsea vs MC](https://www.fotmob.com/matches/chelsea-vs-manchester-city/2d55kw#4193574)"
   ]
  },
  {
   "cell_type": "code",
   "execution_count": 2,
   "metadata": {},
   "outputs": [],
   "source": [
    "from mplsoccer.pitch import Pitch\n",
    "import pandas as pd\n",
    "\n",
    "# spadl format assumes pitch size 68 x 105,\n",
    "# so we use pitch_type=`uefa` for mplsoccer\n",
    "# https://socceraction.readthedocs.io/en/latest/documentation/spadl/spadl.html\n",
    "\n",
    "def get_pitch():\n",
    "  return Pitch(pitch_type='uefa',\n",
    "              pitch_color='white',\n",
    "              line_color='#c7d5cc')"
   ]
  },
  {
   "cell_type": "code",
   "execution_count": 3,
   "metadata": {},
   "outputs": [],
   "source": [
    "# Temp change for simpler debugging\n",
    "pd.options.display.max_rows = 120 # was 60"
   ]
  },
  {
   "cell_type": "markdown",
   "metadata": {},
   "source": [
    "# Loading data from WhoScored (via soccerdata cache)"
   ]
  },
  {
   "cell_type": "code",
   "execution_count": 4,
   "metadata": {},
   "outputs": [
    {
     "data": {
      "text/html": [
       "<pre style=\"white-space:pre;overflow-x:auto;line-height:normal;font-family:Menlo,'DejaVu Sans Mono',consolas,'Courier New',monospace\"><span style=\"color: #7fbfbf; text-decoration-color: #7fbfbf\">[01/27/24 14:06:41] </span><span style=\"color: #000080; text-decoration-color: #000080\">INFO    </span> No custom team name replacements found. You can configure these in       <a href=\"file:///usr/local/lib/python3.11/site-packages/soccerdata/_config.py\" target=\"_blank\"><span style=\"color: #7f7f7f; text-decoration-color: #7f7f7f\">_config.py</span></a><span style=\"color: #7f7f7f; text-decoration-color: #7f7f7f\">:</span><a href=\"file:///usr/local/lib/python3.11/site-packages/soccerdata/_config.py#84\" target=\"_blank\"><span style=\"color: #7f7f7f; text-decoration-color: #7f7f7f\">84</span></a>\n",
       "<span style=\"color: #7fbfbf; text-decoration-color: #7fbfbf\">                    </span>         <span style=\"color: #800080; text-decoration-color: #800080\">/Users/ivn/soccerdata/config/</span><span style=\"color: #ff00ff; text-decoration-color: #ff00ff\">teamname_replacements.json.</span>                 <span style=\"color: #7f7f7f; text-decoration-color: #7f7f7f\">             </span>\n",
       "</pre>\n"
      ],
      "text/plain": [
       "\u001b[2;36m[01/27/24 14:06:41]\u001b[0m\u001b[2;36m \u001b[0m\u001b[34mINFO    \u001b[0m No custom team name replacements found. You can configure these in       \u001b]8;id=912011;file:///usr/local/lib/python3.11/site-packages/soccerdata/_config.py\u001b\\\u001b[2m_config.py\u001b[0m\u001b]8;;\u001b\\\u001b[2m:\u001b[0m\u001b]8;id=124621;file:///usr/local/lib/python3.11/site-packages/soccerdata/_config.py#84\u001b\\\u001b[2m84\u001b[0m\u001b]8;;\u001b\\\n",
       "\u001b[2;36m                    \u001b[0m         \u001b[35m/Users/ivn/soccerdata/config/\u001b[0m\u001b[95mteamname_replacements.json.\u001b[0m                 \u001b[2m             \u001b[0m\n"
      ]
     },
     "metadata": {},
     "output_type": "display_data"
    },
    {
     "data": {
      "text/html": [
       "<pre style=\"white-space:pre;overflow-x:auto;line-height:normal;font-family:Menlo,'DejaVu Sans Mono',consolas,'Courier New',monospace\"><span style=\"color: #7fbfbf; text-decoration-color: #7fbfbf\">                    </span><span style=\"color: #000080; text-decoration-color: #000080\">INFO    </span> No custom league dict found. You can configure additional leagues in    <a href=\"file:///usr/local/lib/python3.11/site-packages/soccerdata/_config.py\" target=\"_blank\"><span style=\"color: #7f7f7f; text-decoration-color: #7f7f7f\">_config.py</span></a><span style=\"color: #7f7f7f; text-decoration-color: #7f7f7f\">:</span><a href=\"file:///usr/local/lib/python3.11/site-packages/soccerdata/_config.py#162\" target=\"_blank\"><span style=\"color: #7f7f7f; text-decoration-color: #7f7f7f\">162</span></a>\n",
       "<span style=\"color: #7fbfbf; text-decoration-color: #7fbfbf\">                    </span>         <span style=\"color: #800080; text-decoration-color: #800080\">/Users/ivn/soccerdata/config/</span><span style=\"color: #ff00ff; text-decoration-color: #ff00ff\">league_dict.json.</span>                          <span style=\"color: #7f7f7f; text-decoration-color: #7f7f7f\">              </span>\n",
       "</pre>\n"
      ],
      "text/plain": [
       "\u001b[2;36m                   \u001b[0m\u001b[2;36m \u001b[0m\u001b[34mINFO    \u001b[0m No custom league dict found. You can configure additional leagues in    \u001b]8;id=580780;file:///usr/local/lib/python3.11/site-packages/soccerdata/_config.py\u001b\\\u001b[2m_config.py\u001b[0m\u001b]8;;\u001b\\\u001b[2m:\u001b[0m\u001b]8;id=339499;file:///usr/local/lib/python3.11/site-packages/soccerdata/_config.py#162\u001b\\\u001b[2m162\u001b[0m\u001b]8;;\u001b\\\n",
       "\u001b[2;36m                    \u001b[0m         \u001b[35m/Users/ivn/soccerdata/config/\u001b[0m\u001b[95mleague_dict.json.\u001b[0m                          \u001b[2m              \u001b[0m\n"
      ]
     },
     "metadata": {},
     "output_type": "display_data"
    },
    {
     "data": {
      "text/html": [
       "<pre style=\"white-space:pre;overflow-x:auto;line-height:normal;font-family:Menlo,'DejaVu Sans Mono',consolas,'Courier New',monospace\"><span style=\"color: #7fbfbf; text-decoration-color: #7fbfbf\">                    </span><span style=\"color: #000080; text-decoration-color: #000080\">INFO    </span> Saving cached data to                                                    <a href=\"file:///usr/local/lib/python3.11/site-packages/soccerdata/_common.py\" target=\"_blank\"><span style=\"color: #7f7f7f; text-decoration-color: #7f7f7f\">_common.py</span></a><span style=\"color: #7f7f7f; text-decoration-color: #7f7f7f\">:</span><a href=\"file:///usr/local/lib/python3.11/site-packages/soccerdata/_common.py#91\" target=\"_blank\"><span style=\"color: #7f7f7f; text-decoration-color: #7f7f7f\">91</span></a>\n",
       "<span style=\"color: #7fbfbf; text-decoration-color: #7fbfbf\">                    </span>         <span style=\"color: #800080; text-decoration-color: #800080\">/Users/ivn/Documents/projects/fa_ucu/Manchester-City/src/../data/</span><span style=\"color: #ff00ff; text-decoration-color: #ff00ff\">soccerd</span> <span style=\"color: #7f7f7f; text-decoration-color: #7f7f7f\">             </span>\n",
       "<span style=\"color: #7fbfbf; text-decoration-color: #7fbfbf\">                    </span>         <span style=\"color: #ff00ff; text-decoration-color: #ff00ff\">ata_cache</span>                                                                <span style=\"color: #7f7f7f; text-decoration-color: #7f7f7f\">             </span>\n",
       "</pre>\n"
      ],
      "text/plain": [
       "\u001b[2;36m                   \u001b[0m\u001b[2;36m \u001b[0m\u001b[34mINFO    \u001b[0m Saving cached data to                                                    \u001b]8;id=951949;file:///usr/local/lib/python3.11/site-packages/soccerdata/_common.py\u001b\\\u001b[2m_common.py\u001b[0m\u001b]8;;\u001b\\\u001b[2m:\u001b[0m\u001b]8;id=368808;file:///usr/local/lib/python3.11/site-packages/soccerdata/_common.py#91\u001b\\\u001b[2m91\u001b[0m\u001b]8;;\u001b\\\n",
       "\u001b[2;36m                    \u001b[0m         \u001b[35m/Users/ivn/Documents/projects/fa_ucu/Manchester-City/src/../data/\u001b[0m\u001b[95msoccerd\u001b[0m \u001b[2m             \u001b[0m\n",
       "\u001b[2;36m                    \u001b[0m         \u001b[95mata_cache\u001b[0m                                                                \u001b[2m             \u001b[0m\n"
      ]
     },
     "metadata": {},
     "output_type": "display_data"
    },
    {
     "data": {
      "text/html": [
       "<pre style=\"white-space:pre;overflow-x:auto;line-height:normal;font-family:Menlo,'DejaVu Sans Mono',consolas,'Courier New',monospace\"><span style=\"color: #7fbfbf; text-decoration-color: #7fbfbf\">[01/27/24 14:06:43] </span><span style=\"color: #000080; text-decoration-color: #000080\">INFO    </span> patching driver executable <span style=\"color: #800080; text-decoration-color: #800080\">/Users/ivn/Library/</span><span style=\"color: #ff00ff; text-decoration-color: #ff00ff\">Application</span>               <a href=\"file:///usr/local/lib/python3.11/site-packages/undetected_chromedriver/patcher.py\" target=\"_blank\"><span style=\"color: #7f7f7f; text-decoration-color: #7f7f7f\">patcher.py</span></a><span style=\"color: #7f7f7f; text-decoration-color: #7f7f7f\">:</span><a href=\"file:///usr/local/lib/python3.11/site-packages/undetected_chromedriver/patcher.py#346\" target=\"_blank\"><span style=\"color: #7f7f7f; text-decoration-color: #7f7f7f\">346</span></a>\n",
       "<span style=\"color: #7fbfbf; text-decoration-color: #7fbfbf\">                    </span>         Support/undetected_chromedriver/undetected_chromedriver                 <span style=\"color: #7f7f7f; text-decoration-color: #7f7f7f\">              </span>\n",
       "</pre>\n"
      ],
      "text/plain": [
       "\u001b[2;36m[01/27/24 14:06:43]\u001b[0m\u001b[2;36m \u001b[0m\u001b[34mINFO    \u001b[0m patching driver executable \u001b[35m/Users/ivn/Library/\u001b[0m\u001b[95mApplication\u001b[0m               \u001b]8;id=276086;file:///usr/local/lib/python3.11/site-packages/undetected_chromedriver/patcher.py\u001b\\\u001b[2mpatcher.py\u001b[0m\u001b]8;;\u001b\\\u001b[2m:\u001b[0m\u001b]8;id=29816;file:///usr/local/lib/python3.11/site-packages/undetected_chromedriver/patcher.py#346\u001b\\\u001b[2m346\u001b[0m\u001b]8;;\u001b\\\n",
       "\u001b[2;36m                    \u001b[0m         Support/undetected_chromedriver/undetected_chromedriver                 \u001b[2m              \u001b[0m\n"
      ]
     },
     "metadata": {},
     "output_type": "display_data"
    }
   ],
   "source": [
    "import soccerdata as sd\n",
    "import os\n",
    "from pathlib import Path\n",
    "\n",
    "# https://www.whoscored.com/Matches/1729243/Live/England-Premier-League-2023-2024-Chelsea-Manchester-City\n",
    "\n",
    "data_dir=Path(f\"{os.getcwd()}/../data/soccerdata_cache\")\n",
    "ws = sd.WhoScored(leagues=\"ENG-Premier League\", seasons=\"23-24\", data_dir=data_dir)"
   ]
  },
  {
   "cell_type": "code",
   "execution_count": 5,
   "metadata": {},
   "outputs": [
    {
     "data": {
      "text/html": [
       "<pre style=\"white-space:pre;overflow-x:auto;line-height:normal;font-family:Menlo,'DejaVu Sans Mono',consolas,'Courier New',monospace\"><span style=\"color: #7fbfbf; text-decoration-color: #7fbfbf\">[01/27/24 14:06:44] </span><span style=\"color: #000080; text-decoration-color: #000080\">INFO    </span> Retrieving game schedule of ENG-Premier League - <span style=\"color: #008080; text-decoration-color: #008080; font-weight: bold\">2324</span> from the cache  <a href=\"file:///usr/local/lib/python3.11/site-packages/soccerdata/whoscored.py\" target=\"_blank\"><span style=\"color: #7f7f7f; text-decoration-color: #7f7f7f\">whoscored.py</span></a><span style=\"color: #7f7f7f; text-decoration-color: #7f7f7f\">:</span><a href=\"file:///usr/local/lib/python3.11/site-packages/soccerdata/whoscored.py#437\" target=\"_blank\"><span style=\"color: #7f7f7f; text-decoration-color: #7f7f7f\">437</span></a>\n",
       "</pre>\n"
      ],
      "text/plain": [
       "\u001b[2;36m[01/27/24 14:06:44]\u001b[0m\u001b[2;36m \u001b[0m\u001b[34mINFO    \u001b[0m Retrieving game schedule of ENG-Premier League - \u001b[1;36m2324\u001b[0m from the cache  \u001b]8;id=315934;file:///usr/local/lib/python3.11/site-packages/soccerdata/whoscored.py\u001b\\\u001b[2mwhoscored.py\u001b[0m\u001b]8;;\u001b\\\u001b[2m:\u001b[0m\u001b]8;id=40886;file:///usr/local/lib/python3.11/site-packages/soccerdata/whoscored.py#437\u001b\\\u001b[2m437\u001b[0m\u001b]8;;\u001b\\\n"
      ]
     },
     "metadata": {},
     "output_type": "display_data"
    }
   ],
   "source": [
    "# read it here once so we can force cache later\n",
    "epl_schedule = ws.read_schedule(force_cache=True)"
   ]
  },
  {
   "cell_type": "code",
   "execution_count": 6,
   "metadata": {},
   "outputs": [
    {
     "data": {
      "text/html": [
       "<pre style=\"white-space:pre;overflow-x:auto;line-height:normal;font-family:Menlo,'DejaVu Sans Mono',consolas,'Courier New',monospace\"><span style=\"color: #7fbfbf; text-decoration-color: #7fbfbf\">[01/27/24 14:06:45] </span><span style=\"color: #000080; text-decoration-color: #000080\">INFO    </span> Retrieving game schedule of ENG-Premier League - <span style=\"color: #008080; text-decoration-color: #008080; font-weight: bold\">2324</span> from the cache  <a href=\"file:///usr/local/lib/python3.11/site-packages/soccerdata/whoscored.py\" target=\"_blank\"><span style=\"color: #7f7f7f; text-decoration-color: #7f7f7f\">whoscored.py</span></a><span style=\"color: #7f7f7f; text-decoration-color: #7f7f7f\">:</span><a href=\"file:///usr/local/lib/python3.11/site-packages/soccerdata/whoscored.py#437\" target=\"_blank\"><span style=\"color: #7f7f7f; text-decoration-color: #7f7f7f\">437</span></a>\n",
       "</pre>\n"
      ],
      "text/plain": [
       "\u001b[2;36m[01/27/24 14:06:45]\u001b[0m\u001b[2;36m \u001b[0m\u001b[34mINFO    \u001b[0m Retrieving game schedule of ENG-Premier League - \u001b[1;36m2324\u001b[0m from the cache  \u001b]8;id=972936;file:///usr/local/lib/python3.11/site-packages/soccerdata/whoscored.py\u001b\\\u001b[2mwhoscored.py\u001b[0m\u001b]8;;\u001b\\\u001b[2m:\u001b[0m\u001b]8;id=176201;file:///usr/local/lib/python3.11/site-packages/soccerdata/whoscored.py#437\u001b\\\u001b[2m437\u001b[0m\u001b]8;;\u001b\\\n"
      ]
     },
     "metadata": {},
     "output_type": "display_data"
    },
    {
     "data": {
      "text/html": [
       "<pre style=\"white-space:pre;overflow-x:auto;line-height:normal;font-family:Menlo,'DejaVu Sans Mono',consolas,'Courier New',monospace\"><span style=\"color: #7fbfbf; text-decoration-color: #7fbfbf\">                    </span><span style=\"color: #000080; text-decoration-color: #000080\">INFO    </span> <span style=\"font-weight: bold\">[</span><span style=\"color: #008080; text-decoration-color: #008080; font-weight: bold\">1</span>/<span style=\"color: #008080; text-decoration-color: #008080; font-weight: bold\">1</span><span style=\"font-weight: bold\">]</span> Retrieving game with <span style=\"color: #808000; text-decoration-color: #808000\">id</span>=<span style=\"color: #008080; text-decoration-color: #008080; font-weight: bold\">1729243</span>                                 <a href=\"file:///usr/local/lib/python3.11/site-packages/soccerdata/whoscored.py\" target=\"_blank\"><span style=\"color: #7f7f7f; text-decoration-color: #7f7f7f\">whoscored.py</span></a><span style=\"color: #7f7f7f; text-decoration-color: #7f7f7f\">:</span><a href=\"file:///usr/local/lib/python3.11/site-packages/soccerdata/whoscored.py#693\" target=\"_blank\"><span style=\"color: #7f7f7f; text-decoration-color: #7f7f7f\">693</span></a>\n",
       "</pre>\n"
      ],
      "text/plain": [
       "\u001b[2;36m                   \u001b[0m\u001b[2;36m \u001b[0m\u001b[34mINFO    \u001b[0m \u001b[1m[\u001b[0m\u001b[1;36m1\u001b[0m/\u001b[1;36m1\u001b[0m\u001b[1m]\u001b[0m Retrieving game with \u001b[33mid\u001b[0m=\u001b[1;36m1729243\u001b[0m                                 \u001b]8;id=604361;file:///usr/local/lib/python3.11/site-packages/soccerdata/whoscored.py\u001b\\\u001b[2mwhoscored.py\u001b[0m\u001b]8;;\u001b\\\u001b[2m:\u001b[0m\u001b]8;id=615696;file:///usr/local/lib/python3.11/site-packages/soccerdata/whoscored.py#693\u001b\\\u001b[2m693\u001b[0m\u001b]8;;\u001b\\\n"
      ]
     },
     "metadata": {},
     "output_type": "display_data"
    },
    {
     "data": {
      "text/html": [
       "<pre style=\"white-space:pre;overflow-x:auto;line-height:normal;font-family:Menlo,'DejaVu Sans Mono',consolas,'Courier New',monospace\"><span style=\"color: #7fbfbf; text-decoration-color: #7fbfbf\">                    </span><span style=\"color: #000080; text-decoration-color: #000080\">INFO    </span> Retrieving game schedule of ENG-Premier League - <span style=\"color: #008080; text-decoration-color: #008080; font-weight: bold\">2324</span> from the cache  <a href=\"file:///usr/local/lib/python3.11/site-packages/soccerdata/whoscored.py\" target=\"_blank\"><span style=\"color: #7f7f7f; text-decoration-color: #7f7f7f\">whoscored.py</span></a><span style=\"color: #7f7f7f; text-decoration-color: #7f7f7f\">:</span><a href=\"file:///usr/local/lib/python3.11/site-packages/soccerdata/whoscored.py#437\" target=\"_blank\"><span style=\"color: #7f7f7f; text-decoration-color: #7f7f7f\">437</span></a>\n",
       "</pre>\n"
      ],
      "text/plain": [
       "\u001b[2;36m                   \u001b[0m\u001b[2;36m \u001b[0m\u001b[34mINFO    \u001b[0m Retrieving game schedule of ENG-Premier League - \u001b[1;36m2324\u001b[0m from the cache  \u001b]8;id=19600;file:///usr/local/lib/python3.11/site-packages/soccerdata/whoscored.py\u001b\\\u001b[2mwhoscored.py\u001b[0m\u001b]8;;\u001b\\\u001b[2m:\u001b[0m\u001b]8;id=376610;file:///usr/local/lib/python3.11/site-packages/soccerdata/whoscored.py#437\u001b\\\u001b[2m437\u001b[0m\u001b]8;;\u001b\\\n"
      ]
     },
     "metadata": {},
     "output_type": "display_data"
    },
    {
     "data": {
      "text/html": [
       "<pre style=\"white-space:pre;overflow-x:auto;line-height:normal;font-family:Menlo,'DejaVu Sans Mono',consolas,'Courier New',monospace\"><span style=\"color: #7fbfbf; text-decoration-color: #7fbfbf\">[01/27/24 14:06:46] </span><span style=\"color: #000080; text-decoration-color: #000080\">INFO    </span> <span style=\"font-weight: bold\">[</span><span style=\"color: #008080; text-decoration-color: #008080; font-weight: bold\">1</span>/<span style=\"color: #008080; text-decoration-color: #008080; font-weight: bold\">1</span><span style=\"font-weight: bold\">]</span> Retrieving game with <span style=\"color: #808000; text-decoration-color: #808000\">id</span>=<span style=\"color: #008080; text-decoration-color: #008080; font-weight: bold\">1729243</span>                                 <a href=\"file:///usr/local/lib/python3.11/site-packages/soccerdata/whoscored.py\" target=\"_blank\"><span style=\"color: #7f7f7f; text-decoration-color: #7f7f7f\">whoscored.py</span></a><span style=\"color: #7f7f7f; text-decoration-color: #7f7f7f\">:</span><a href=\"file:///usr/local/lib/python3.11/site-packages/soccerdata/whoscored.py#693\" target=\"_blank\"><span style=\"color: #7f7f7f; text-decoration-color: #7f7f7f\">693</span></a>\n",
       "</pre>\n"
      ],
      "text/plain": [
       "\u001b[2;36m[01/27/24 14:06:46]\u001b[0m\u001b[2;36m \u001b[0m\u001b[34mINFO    \u001b[0m \u001b[1m[\u001b[0m\u001b[1;36m1\u001b[0m/\u001b[1;36m1\u001b[0m\u001b[1m]\u001b[0m Retrieving game with \u001b[33mid\u001b[0m=\u001b[1;36m1729243\u001b[0m                                 \u001b]8;id=753407;file:///usr/local/lib/python3.11/site-packages/soccerdata/whoscored.py\u001b\\\u001b[2mwhoscored.py\u001b[0m\u001b]8;;\u001b\\\u001b[2m:\u001b[0m\u001b]8;id=229172;file:///usr/local/lib/python3.11/site-packages/soccerdata/whoscored.py#693\u001b\\\u001b[2m693\u001b[0m\u001b]8;;\u001b\\\n"
      ]
     },
     "metadata": {},
     "output_type": "display_data"
    },
    {
     "data": {
      "text/html": [
       "<pre style=\"white-space:pre;overflow-x:auto;line-height:normal;font-family:Menlo,'DejaVu Sans Mono',consolas,'Courier New',monospace\"><span style=\"color: #7fbfbf; text-decoration-color: #7fbfbf\">                    </span><span style=\"color: #000080; text-decoration-color: #000080\">INFO    </span> Retrieving game schedule of ENG-Premier League - <span style=\"color: #008080; text-decoration-color: #008080; font-weight: bold\">2324</span> from the cache  <a href=\"file:///usr/local/lib/python3.11/site-packages/soccerdata/whoscored.py\" target=\"_blank\"><span style=\"color: #7f7f7f; text-decoration-color: #7f7f7f\">whoscored.py</span></a><span style=\"color: #7f7f7f; text-decoration-color: #7f7f7f\">:</span><a href=\"file:///usr/local/lib/python3.11/site-packages/soccerdata/whoscored.py#437\" target=\"_blank\"><span style=\"color: #7f7f7f; text-decoration-color: #7f7f7f\">437</span></a>\n",
       "</pre>\n"
      ],
      "text/plain": [
       "\u001b[2;36m                   \u001b[0m\u001b[2;36m \u001b[0m\u001b[34mINFO    \u001b[0m Retrieving game schedule of ENG-Premier League - \u001b[1;36m2324\u001b[0m from the cache  \u001b]8;id=954954;file:///usr/local/lib/python3.11/site-packages/soccerdata/whoscored.py\u001b\\\u001b[2mwhoscored.py\u001b[0m\u001b]8;;\u001b\\\u001b[2m:\u001b[0m\u001b]8;id=723751;file:///usr/local/lib/python3.11/site-packages/soccerdata/whoscored.py#437\u001b\\\u001b[2m437\u001b[0m\u001b]8;;\u001b\\\n"
      ]
     },
     "metadata": {},
     "output_type": "display_data"
    },
    {
     "data": {
      "text/html": [
       "<pre style=\"white-space:pre;overflow-x:auto;line-height:normal;font-family:Menlo,'DejaVu Sans Mono',consolas,'Courier New',monospace\"><span style=\"color: #7fbfbf; text-decoration-color: #7fbfbf\">                    </span><span style=\"color: #000080; text-decoration-color: #000080\">INFO    </span> <span style=\"font-weight: bold\">[</span><span style=\"color: #008080; text-decoration-color: #008080; font-weight: bold\">1</span>/<span style=\"color: #008080; text-decoration-color: #008080; font-weight: bold\">1</span><span style=\"font-weight: bold\">]</span> Retrieving game with <span style=\"color: #808000; text-decoration-color: #808000\">id</span>=<span style=\"color: #008080; text-decoration-color: #008080; font-weight: bold\">1729243</span>                                 <a href=\"file:///usr/local/lib/python3.11/site-packages/soccerdata/whoscored.py\" target=\"_blank\"><span style=\"color: #7f7f7f; text-decoration-color: #7f7f7f\">whoscored.py</span></a><span style=\"color: #7f7f7f; text-decoration-color: #7f7f7f\">:</span><a href=\"file:///usr/local/lib/python3.11/site-packages/soccerdata/whoscored.py#693\" target=\"_blank\"><span style=\"color: #7f7f7f; text-decoration-color: #7f7f7f\">693</span></a>\n",
       "</pre>\n"
      ],
      "text/plain": [
       "\u001b[2;36m                   \u001b[0m\u001b[2;36m \u001b[0m\u001b[34mINFO    \u001b[0m \u001b[1m[\u001b[0m\u001b[1;36m1\u001b[0m/\u001b[1;36m1\u001b[0m\u001b[1m]\u001b[0m Retrieving game with \u001b[33mid\u001b[0m=\u001b[1;36m1729243\u001b[0m                                 \u001b]8;id=372522;file:///usr/local/lib/python3.11/site-packages/soccerdata/whoscored.py\u001b\\\u001b[2mwhoscored.py\u001b[0m\u001b]8;;\u001b\\\u001b[2m:\u001b[0m\u001b]8;id=564934;file:///usr/local/lib/python3.11/site-packages/soccerdata/whoscored.py#693\u001b\\\u001b[2m693\u001b[0m\u001b]8;;\u001b\\\n"
      ]
     },
     "metadata": {},
     "output_type": "display_data"
    },
    {
     "data": {
      "text/html": [
       "<pre style=\"white-space:pre;overflow-x:auto;line-height:normal;font-family:Menlo,'DejaVu Sans Mono',consolas,'Courier New',monospace\"><span style=\"color: #7fbfbf; text-decoration-color: #7fbfbf\">                    </span><span style=\"color: #000080; text-decoration-color: #000080\">INFO    </span> Retrieving game schedule of ENG-Premier League - <span style=\"color: #008080; text-decoration-color: #008080; font-weight: bold\">2324</span> from the cache  <a href=\"file:///usr/local/lib/python3.11/site-packages/soccerdata/whoscored.py\" target=\"_blank\"><span style=\"color: #7f7f7f; text-decoration-color: #7f7f7f\">whoscored.py</span></a><span style=\"color: #7f7f7f; text-decoration-color: #7f7f7f\">:</span><a href=\"file:///usr/local/lib/python3.11/site-packages/soccerdata/whoscored.py#437\" target=\"_blank\"><span style=\"color: #7f7f7f; text-decoration-color: #7f7f7f\">437</span></a>\n",
       "</pre>\n"
      ],
      "text/plain": [
       "\u001b[2;36m                   \u001b[0m\u001b[2;36m \u001b[0m\u001b[34mINFO    \u001b[0m Retrieving game schedule of ENG-Premier League - \u001b[1;36m2324\u001b[0m from the cache  \u001b]8;id=465341;file:///usr/local/lib/python3.11/site-packages/soccerdata/whoscored.py\u001b\\\u001b[2mwhoscored.py\u001b[0m\u001b]8;;\u001b\\\u001b[2m:\u001b[0m\u001b]8;id=8424;file:///usr/local/lib/python3.11/site-packages/soccerdata/whoscored.py#437\u001b\\\u001b[2m437\u001b[0m\u001b]8;;\u001b\\\n"
      ]
     },
     "metadata": {},
     "output_type": "display_data"
    },
    {
     "data": {
      "text/html": [
       "<pre style=\"white-space:pre;overflow-x:auto;line-height:normal;font-family:Menlo,'DejaVu Sans Mono',consolas,'Courier New',monospace\"><span style=\"color: #7fbfbf; text-decoration-color: #7fbfbf\">                    </span><span style=\"color: #000080; text-decoration-color: #000080\">INFO    </span> <span style=\"font-weight: bold\">[</span><span style=\"color: #008080; text-decoration-color: #008080; font-weight: bold\">1</span>/<span style=\"color: #008080; text-decoration-color: #008080; font-weight: bold\">1</span><span style=\"font-weight: bold\">]</span> Retrieving game with <span style=\"color: #808000; text-decoration-color: #808000\">id</span>=<span style=\"color: #008080; text-decoration-color: #008080; font-weight: bold\">1729243</span>                                 <a href=\"file:///usr/local/lib/python3.11/site-packages/soccerdata/whoscored.py\" target=\"_blank\"><span style=\"color: #7f7f7f; text-decoration-color: #7f7f7f\">whoscored.py</span></a><span style=\"color: #7f7f7f; text-decoration-color: #7f7f7f\">:</span><a href=\"file:///usr/local/lib/python3.11/site-packages/soccerdata/whoscored.py#693\" target=\"_blank\"><span style=\"color: #7f7f7f; text-decoration-color: #7f7f7f\">693</span></a>\n",
       "</pre>\n"
      ],
      "text/plain": [
       "\u001b[2;36m                   \u001b[0m\u001b[2;36m \u001b[0m\u001b[34mINFO    \u001b[0m \u001b[1m[\u001b[0m\u001b[1;36m1\u001b[0m/\u001b[1;36m1\u001b[0m\u001b[1m]\u001b[0m Retrieving game with \u001b[33mid\u001b[0m=\u001b[1;36m1729243\u001b[0m                                 \u001b]8;id=836734;file:///usr/local/lib/python3.11/site-packages/soccerdata/whoscored.py\u001b\\\u001b[2mwhoscored.py\u001b[0m\u001b]8;;\u001b\\\u001b[2m:\u001b[0m\u001b]8;id=583482;file:///usr/local/lib/python3.11/site-packages/soccerdata/whoscored.py#693\u001b\\\u001b[2m693\u001b[0m\u001b]8;;\u001b\\\n"
      ]
     },
     "metadata": {},
     "output_type": "display_data"
    }
   ],
   "source": [
    "GAME_ID=1729243\n",
    "events_raw = ws.read_events(match_id=GAME_ID, force_cache=True, output_fmt=\"raw\")\n",
    "events_spadl = ws.read_events(match_id=GAME_ID, force_cache=True, output_fmt=\"spadl\")\n",
    "events_atomic_spadl = ws.read_events(match_id=GAME_ID, force_cache=True, output_fmt=\"atomic-spadl\")\n",
    "events = ws.read_events(match_id=GAME_ID, force_cache=True, output_fmt=\"events\")"
   ]
  },
  {
   "cell_type": "code",
   "execution_count": 7,
   "metadata": {},
   "outputs": [
    {
     "data": {
      "text/html": [
       "<pre style=\"white-space:pre;overflow-x:auto;line-height:normal;font-family:Menlo,'DejaVu Sans Mono',consolas,'Courier New',monospace\"><span style=\"color: #7fbfbf; text-decoration-color: #7fbfbf\">                    </span><span style=\"color: #000080; text-decoration-color: #000080\">INFO    </span> Retrieving game schedule of ENG-Premier League - <span style=\"color: #008080; text-decoration-color: #008080; font-weight: bold\">2324</span> from the cache  <a href=\"file:///usr/local/lib/python3.11/site-packages/soccerdata/whoscored.py\" target=\"_blank\"><span style=\"color: #7f7f7f; text-decoration-color: #7f7f7f\">whoscored.py</span></a><span style=\"color: #7f7f7f; text-decoration-color: #7f7f7f\">:</span><a href=\"file:///usr/local/lib/python3.11/site-packages/soccerdata/whoscored.py#437\" target=\"_blank\"><span style=\"color: #7f7f7f; text-decoration-color: #7f7f7f\">437</span></a>\n",
       "</pre>\n"
      ],
      "text/plain": [
       "\u001b[2;36m                   \u001b[0m\u001b[2;36m \u001b[0m\u001b[34mINFO    \u001b[0m Retrieving game schedule of ENG-Premier League - \u001b[1;36m2324\u001b[0m from the cache  \u001b]8;id=991637;file:///usr/local/lib/python3.11/site-packages/soccerdata/whoscored.py\u001b\\\u001b[2mwhoscored.py\u001b[0m\u001b]8;;\u001b\\\u001b[2m:\u001b[0m\u001b]8;id=821286;file:///usr/local/lib/python3.11/site-packages/soccerdata/whoscored.py#437\u001b\\\u001b[2m437\u001b[0m\u001b]8;;\u001b\\\n"
      ]
     },
     "metadata": {},
     "output_type": "display_data"
    },
    {
     "data": {
      "text/html": [
       "<pre style=\"white-space:pre;overflow-x:auto;line-height:normal;font-family:Menlo,'DejaVu Sans Mono',consolas,'Courier New',monospace\"><span style=\"color: #7fbfbf; text-decoration-color: #7fbfbf\">                    </span><span style=\"color: #000080; text-decoration-color: #000080\">INFO    </span> <span style=\"font-weight: bold\">[</span><span style=\"color: #008080; text-decoration-color: #008080; font-weight: bold\">1</span>/<span style=\"color: #008080; text-decoration-color: #008080; font-weight: bold\">1</span><span style=\"font-weight: bold\">]</span> Retrieving game with <span style=\"color: #808000; text-decoration-color: #808000\">id</span>=<span style=\"color: #008080; text-decoration-color: #008080; font-weight: bold\">1729243</span>                                 <a href=\"file:///usr/local/lib/python3.11/site-packages/soccerdata/whoscored.py\" target=\"_blank\"><span style=\"color: #7f7f7f; text-decoration-color: #7f7f7f\">whoscored.py</span></a><span style=\"color: #7f7f7f; text-decoration-color: #7f7f7f\">:</span><a href=\"file:///usr/local/lib/python3.11/site-packages/soccerdata/whoscored.py#538\" target=\"_blank\"><span style=\"color: #7f7f7f; text-decoration-color: #7f7f7f\">538</span></a>\n",
       "</pre>\n"
      ],
      "text/plain": [
       "\u001b[2;36m                   \u001b[0m\u001b[2;36m \u001b[0m\u001b[34mINFO    \u001b[0m \u001b[1m[\u001b[0m\u001b[1;36m1\u001b[0m/\u001b[1;36m1\u001b[0m\u001b[1m]\u001b[0m Retrieving game with \u001b[33mid\u001b[0m=\u001b[1;36m1729243\u001b[0m                                 \u001b]8;id=877964;file:///usr/local/lib/python3.11/site-packages/soccerdata/whoscored.py\u001b\\\u001b[2mwhoscored.py\u001b[0m\u001b]8;;\u001b\\\u001b[2m:\u001b[0m\u001b]8;id=56005;file:///usr/local/lib/python3.11/site-packages/soccerdata/whoscored.py#538\u001b\\\u001b[2m538\u001b[0m\u001b]8;;\u001b\\\n"
      ]
     },
     "metadata": {},
     "output_type": "display_data"
    }
   ],
   "source": [
    "missing_players = ws.read_missing_players(match_id=1729243, force_cache=True)"
   ]
  },
  {
   "cell_type": "code",
   "execution_count": 8,
   "metadata": {},
   "outputs": [
    {
     "name": "stdout",
     "output_type": "stream",
     "text": [
      "pass\n"
     ]
    },
    {
     "data": {
      "text/html": [
       "<div>\n",
       "<style scoped>\n",
       "    .dataframe tbody tr th:only-of-type {\n",
       "        vertical-align: middle;\n",
       "    }\n",
       "\n",
       "    .dataframe tbody tr th {\n",
       "        vertical-align: top;\n",
       "    }\n",
       "\n",
       "    .dataframe thead th {\n",
       "        text-align: right;\n",
       "    }\n",
       "</style>\n",
       "<table border=\"1\" class=\"dataframe\">\n",
       "  <thead>\n",
       "    <tr style=\"text-align: right;\">\n",
       "      <th></th>\n",
       "      <th>game_id</th>\n",
       "      <th>original_event_id</th>\n",
       "      <th>period_id</th>\n",
       "      <th>time_seconds</th>\n",
       "      <th>team_id</th>\n",
       "      <th>player_id</th>\n",
       "      <th>start_x</th>\n",
       "      <th>end_x</th>\n",
       "      <th>start_y</th>\n",
       "      <th>end_y</th>\n",
       "      <th>type_id</th>\n",
       "      <th>result_id</th>\n",
       "      <th>bodypart_id</th>\n",
       "      <th>action_id</th>\n",
       "      <th>player</th>\n",
       "      <th>team</th>\n",
       "    </tr>\n",
       "  </thead>\n",
       "  <tbody>\n",
       "    <tr>\n",
       "      <th>0</th>\n",
       "      <td>1729243</td>\n",
       "      <td>2617287487</td>\n",
       "      <td>1</td>\n",
       "      <td>0.0</td>\n",
       "      <td>15</td>\n",
       "      <td>426050.0</td>\n",
       "      <td>52.920</td>\n",
       "      <td>47.145</td>\n",
       "      <td>33.524</td>\n",
       "      <td>30.260</td>\n",
       "      <td>0</td>\n",
       "      <td>1</td>\n",
       "      <td>0</td>\n",
       "      <td>0</td>\n",
       "      <td>Nicolas Jackson</td>\n",
       "      <td>Chelsea</td>\n",
       "    </tr>\n",
       "    <tr>\n",
       "      <th>1</th>\n",
       "      <td>1729243</td>\n",
       "      <td>2617287575</td>\n",
       "      <td>1</td>\n",
       "      <td>1.0</td>\n",
       "      <td>15</td>\n",
       "      <td>369430.0</td>\n",
       "      <td>49.875</td>\n",
       "      <td>63.840</td>\n",
       "      <td>29.920</td>\n",
       "      <td>2.176</td>\n",
       "      <td>0</td>\n",
       "      <td>1</td>\n",
       "      <td>0</td>\n",
       "      <td>1</td>\n",
       "      <td>Enzo Fernández</td>\n",
       "      <td>Chelsea</td>\n",
       "    </tr>\n",
       "    <tr>\n",
       "      <th>2</th>\n",
       "      <td>1729243</td>\n",
       "      <td>NaN</td>\n",
       "      <td>1</td>\n",
       "      <td>3.0</td>\n",
       "      <td>15</td>\n",
       "      <td>361330.0</td>\n",
       "      <td>63.840</td>\n",
       "      <td>45.780</td>\n",
       "      <td>2.176</td>\n",
       "      <td>7.276</td>\n",
       "      <td>21</td>\n",
       "      <td>1</td>\n",
       "      <td>0</td>\n",
       "      <td>2</td>\n",
       "      <td>Reece James</td>\n",
       "      <td>Chelsea</td>\n",
       "    </tr>\n",
       "  </tbody>\n",
       "</table>\n",
       "</div>"
      ],
      "text/plain": [
       "   game_id original_event_id  period_id  time_seconds  team_id  player_id  \\\n",
       "0  1729243        2617287487          1           0.0       15   426050.0   \n",
       "1  1729243        2617287575          1           1.0       15   369430.0   \n",
       "2  1729243               NaN          1           3.0       15   361330.0   \n",
       "\n",
       "   start_x   end_x  start_y   end_y  type_id  result_id  bodypart_id  \\\n",
       "0   52.920  47.145   33.524  30.260        0          1            0   \n",
       "1   49.875  63.840   29.920   2.176        0          1            0   \n",
       "2   63.840  45.780    2.176   7.276       21          1            0   \n",
       "\n",
       "   action_id           player     team  \n",
       "0          0  Nicolas Jackson  Chelsea  \n",
       "1          1   Enzo Fernández  Chelsea  \n",
       "2          2      Reece James  Chelsea  "
      ]
     },
     "execution_count": 8,
     "metadata": {},
     "output_type": "execute_result"
    }
   ],
   "source": [
    "import socceraction\n",
    "\n",
    "# use\n",
    "# socceraction.spadl.config.actiontypes\n",
    "# socceraction.spadl.config.results\n",
    "# socceraction.spadl.config.bodyparts\n",
    "# to interpret values\n",
    "# e.g.\n",
    "print(socceraction.spadl.config.actiontypes[0])\n",
    "events_spadl[:3]"
   ]
  },
  {
   "cell_type": "code",
   "execution_count": 9,
   "metadata": {},
   "outputs": [
    {
     "data": {
      "text/html": [
       "<div>\n",
       "<style scoped>\n",
       "    .dataframe tbody tr th:only-of-type {\n",
       "        vertical-align: middle;\n",
       "    }\n",
       "\n",
       "    .dataframe tbody tr th {\n",
       "        vertical-align: top;\n",
       "    }\n",
       "\n",
       "    .dataframe thead th {\n",
       "        text-align: right;\n",
       "    }\n",
       "</style>\n",
       "<table border=\"1\" class=\"dataframe\">\n",
       "  <thead>\n",
       "    <tr style=\"text-align: right;\">\n",
       "      <th></th>\n",
       "      <th></th>\n",
       "      <th></th>\n",
       "      <th></th>\n",
       "      <th></th>\n",
       "      <th>game_id</th>\n",
       "      <th>player_id</th>\n",
       "      <th>reason</th>\n",
       "      <th>status</th>\n",
       "    </tr>\n",
       "    <tr>\n",
       "      <th>league</th>\n",
       "      <th>season</th>\n",
       "      <th>game</th>\n",
       "      <th>team</th>\n",
       "      <th>player</th>\n",
       "      <th></th>\n",
       "      <th></th>\n",
       "      <th></th>\n",
       "      <th></th>\n",
       "    </tr>\n",
       "  </thead>\n",
       "  <tbody>\n",
       "    <tr>\n",
       "      <th rowspan=\"11\" valign=\"top\">ENG-Premier League</th>\n",
       "      <th rowspan=\"11\" valign=\"top\">2324</th>\n",
       "      <th rowspan=\"11\" valign=\"top\">2023-11-12 Chelsea-Manchester City</th>\n",
       "      <th rowspan=\"7\" valign=\"top\">Chelsea</th>\n",
       "      <th>Armando Broja</th>\n",
       "      <td>1729243</td>\n",
       "      <td>393407</td>\n",
       "      <td>injured doubtful</td>\n",
       "      <td>Doubtful</td>\n",
       "    </tr>\n",
       "    <tr>\n",
       "      <th>Ben Chilwell</th>\n",
       "      <td>1729243</td>\n",
       "      <td>299272</td>\n",
       "      <td>injured</td>\n",
       "      <td>Out</td>\n",
       "    </tr>\n",
       "    <tr>\n",
       "      <th>Carney Chukwuemeka</th>\n",
       "      <td>1729243</td>\n",
       "      <td>410639</td>\n",
       "      <td>injured</td>\n",
       "      <td>Out</td>\n",
       "    </tr>\n",
       "    <tr>\n",
       "      <th>Christopher Nkunku</th>\n",
       "      <td>1729243</td>\n",
       "      <td>300945</td>\n",
       "      <td>injured</td>\n",
       "      <td>Out</td>\n",
       "    </tr>\n",
       "    <tr>\n",
       "      <th>RomÃ©o Lavia</th>\n",
       "      <td>1729243</td>\n",
       "      <td>425319</td>\n",
       "      <td>injured</td>\n",
       "      <td>Out</td>\n",
       "    </tr>\n",
       "    <tr>\n",
       "      <th>Trevoh Chalobah</th>\n",
       "      <td>1729243</td>\n",
       "      <td>353292</td>\n",
       "      <td>injured</td>\n",
       "      <td>Out</td>\n",
       "    </tr>\n",
       "    <tr>\n",
       "      <th>Wesley Fofana</th>\n",
       "      <td>1729243</td>\n",
       "      <td>373946</td>\n",
       "      <td>injured</td>\n",
       "      <td>Out</td>\n",
       "    </tr>\n",
       "    <tr>\n",
       "      <th rowspan=\"4\" valign=\"top\">Manchester City</th>\n",
       "      <th>John Stones</th>\n",
       "      <td>1729243</td>\n",
       "      <td>101374</td>\n",
       "      <td>injured</td>\n",
       "      <td>Out</td>\n",
       "    </tr>\n",
       "    <tr>\n",
       "      <th>Kevin De Bruyne</th>\n",
       "      <td>1729243</td>\n",
       "      <td>73084</td>\n",
       "      <td>injured</td>\n",
       "      <td>Out</td>\n",
       "    </tr>\n",
       "    <tr>\n",
       "      <th>Manuel Akanji</th>\n",
       "      <td>1729243</td>\n",
       "      <td>297390</td>\n",
       "      <td>injured doubtful</td>\n",
       "      <td>Doubtful</td>\n",
       "    </tr>\n",
       "    <tr>\n",
       "      <th>Sergio GÃ³mez</th>\n",
       "      <td>1729243</td>\n",
       "      <td>355110</td>\n",
       "      <td>injured</td>\n",
       "      <td>Out</td>\n",
       "    </tr>\n",
       "  </tbody>\n",
       "</table>\n",
       "</div>"
      ],
      "text/plain": [
       "                                                                                                 game_id  \\\n",
       "league             season game                               team            player                        \n",
       "ENG-Premier League 2324   2023-11-12 Chelsea-Manchester City Chelsea         Armando Broja       1729243   \n",
       "                                                                             Ben Chilwell        1729243   \n",
       "                                                                             Carney Chukwuemeka  1729243   \n",
       "                                                                             Christopher Nkunku  1729243   \n",
       "                                                                             RomÃ©o Lavia        1729243   \n",
       "                                                                             Trevoh Chalobah     1729243   \n",
       "                                                                             Wesley Fofana       1729243   \n",
       "                                                             Manchester City John Stones         1729243   \n",
       "                                                                             Kevin De Bruyne     1729243   \n",
       "                                                                             Manuel Akanji       1729243   \n",
       "                                                                             Sergio GÃ³mez       1729243   \n",
       "\n",
       "                                                                                                 player_id  \\\n",
       "league             season game                               team            player                          \n",
       "ENG-Premier League 2324   2023-11-12 Chelsea-Manchester City Chelsea         Armando Broja          393407   \n",
       "                                                                             Ben Chilwell           299272   \n",
       "                                                                             Carney Chukwuemeka     410639   \n",
       "                                                                             Christopher Nkunku     300945   \n",
       "                                                                             RomÃ©o Lavia           425319   \n",
       "                                                                             Trevoh Chalobah        353292   \n",
       "                                                                             Wesley Fofana          373946   \n",
       "                                                             Manchester City John Stones            101374   \n",
       "                                                                             Kevin De Bruyne         73084   \n",
       "                                                                             Manuel Akanji          297390   \n",
       "                                                                             Sergio GÃ³mez          355110   \n",
       "\n",
       "                                                                                                           reason  \\\n",
       "league             season game                               team            player                                 \n",
       "ENG-Premier League 2324   2023-11-12 Chelsea-Manchester City Chelsea         Armando Broja       injured doubtful   \n",
       "                                                                             Ben Chilwell                 injured   \n",
       "                                                                             Carney Chukwuemeka           injured   \n",
       "                                                                             Christopher Nkunku           injured   \n",
       "                                                                             RomÃ©o Lavia                 injured   \n",
       "                                                                             Trevoh Chalobah              injured   \n",
       "                                                                             Wesley Fofana                injured   \n",
       "                                                             Manchester City John Stones                  injured   \n",
       "                                                                             Kevin De Bruyne              injured   \n",
       "                                                                             Manuel Akanji       injured doubtful   \n",
       "                                                                             Sergio GÃ³mez                injured   \n",
       "\n",
       "                                                                                                   status  \n",
       "league             season game                               team            player                        \n",
       "ENG-Premier League 2324   2023-11-12 Chelsea-Manchester City Chelsea         Armando Broja       Doubtful  \n",
       "                                                                             Ben Chilwell             Out  \n",
       "                                                                             Carney Chukwuemeka       Out  \n",
       "                                                                             Christopher Nkunku       Out  \n",
       "                                                                             RomÃ©o Lavia             Out  \n",
       "                                                                             Trevoh Chalobah          Out  \n",
       "                                                                             Wesley Fofana            Out  \n",
       "                                                             Manchester City John Stones              Out  \n",
       "                                                                             Kevin De Bruyne          Out  \n",
       "                                                                             Manuel Akanji       Doubtful  \n",
       "                                                                             Sergio GÃ³mez            Out  "
      ]
     },
     "execution_count": 9,
     "metadata": {},
     "output_type": "execute_result"
    }
   ],
   "source": [
    "missing_players"
   ]
  },
  {
   "cell_type": "code",
   "execution_count": 10,
   "metadata": {},
   "outputs": [
    {
     "data": {
      "text/html": [
       "<div>\n",
       "<style scoped>\n",
       "    .dataframe tbody tr th:only-of-type {\n",
       "        vertical-align: middle;\n",
       "    }\n",
       "\n",
       "    .dataframe tbody tr th {\n",
       "        vertical-align: top;\n",
       "    }\n",
       "\n",
       "    .dataframe thead th {\n",
       "        text-align: right;\n",
       "    }\n",
       "</style>\n",
       "<table border=\"1\" class=\"dataframe\">\n",
       "  <thead>\n",
       "    <tr style=\"text-align: right;\">\n",
       "      <th></th>\n",
       "      <th>game_id</th>\n",
       "      <th>original_event_id</th>\n",
       "      <th>action_id</th>\n",
       "      <th>period_id</th>\n",
       "      <th>time_seconds</th>\n",
       "      <th>team_id</th>\n",
       "      <th>player_id</th>\n",
       "      <th>x</th>\n",
       "      <th>y</th>\n",
       "      <th>dx</th>\n",
       "      <th>dy</th>\n",
       "      <th>type_id</th>\n",
       "      <th>bodypart_id</th>\n",
       "      <th>player</th>\n",
       "      <th>team</th>\n",
       "    </tr>\n",
       "  </thead>\n",
       "  <tbody>\n",
       "    <tr>\n",
       "      <th>2881</th>\n",
       "      <td>1729243</td>\n",
       "      <td>2617414441</td>\n",
       "      <td>2881</td>\n",
       "      <td>2</td>\n",
       "      <td>3717.5</td>\n",
       "      <td>167</td>\n",
       "      <td>331254.0</td>\n",
       "      <td>40.215</td>\n",
       "      <td>64.804</td>\n",
       "      <td>0.000</td>\n",
       "      <td>0.000</td>\n",
       "      <td>23</td>\n",
       "      <td>0</td>\n",
       "      <td>Phil Foden</td>\n",
       "      <td>Man City</td>\n",
       "    </tr>\n",
       "    <tr>\n",
       "      <th>2882</th>\n",
       "      <td>1729243</td>\n",
       "      <td>NaN</td>\n",
       "      <td>2882</td>\n",
       "      <td>2</td>\n",
       "      <td>3719.0</td>\n",
       "      <td>167</td>\n",
       "      <td>331254.0</td>\n",
       "      <td>40.215</td>\n",
       "      <td>64.804</td>\n",
       "      <td>-5.355</td>\n",
       "      <td>-6.392</td>\n",
       "      <td>21</td>\n",
       "      <td>0</td>\n",
       "      <td>Phil Foden</td>\n",
       "      <td>Man City</td>\n",
       "    </tr>\n",
       "    <tr>\n",
       "      <th>2883</th>\n",
       "      <td>1729243</td>\n",
       "      <td>2617414479</td>\n",
       "      <td>2883</td>\n",
       "      <td>2</td>\n",
       "      <td>3722.0</td>\n",
       "      <td>167</td>\n",
       "      <td>331254.0</td>\n",
       "      <td>34.860</td>\n",
       "      <td>58.412</td>\n",
       "      <td>0.000</td>\n",
       "      <td>0.000</td>\n",
       "      <td>7</td>\n",
       "      <td>0</td>\n",
       "      <td>Phil Foden</td>\n",
       "      <td>Man City</td>\n",
       "    </tr>\n",
       "    <tr>\n",
       "      <th>2884</th>\n",
       "      <td>1729243</td>\n",
       "      <td>2617414477</td>\n",
       "      <td>2884</td>\n",
       "      <td>2</td>\n",
       "      <td>3722.0</td>\n",
       "      <td>15</td>\n",
       "      <td>363496.0</td>\n",
       "      <td>34.860</td>\n",
       "      <td>58.412</td>\n",
       "      <td>0.000</td>\n",
       "      <td>0.000</td>\n",
       "      <td>9</td>\n",
       "      <td>0</td>\n",
       "      <td>Marc Cucurella</td>\n",
       "      <td>Chelsea</td>\n",
       "    </tr>\n",
       "    <tr>\n",
       "      <th>2885</th>\n",
       "      <td>1729243</td>\n",
       "      <td>2617414483</td>\n",
       "      <td>2885</td>\n",
       "      <td>2</td>\n",
       "      <td>3723.0</td>\n",
       "      <td>15</td>\n",
       "      <td>363496.0</td>\n",
       "      <td>35.805</td>\n",
       "      <td>55.760</td>\n",
       "      <td>NaN</td>\n",
       "      <td>NaN</td>\n",
       "      <td>21</td>\n",
       "      <td>0</td>\n",
       "      <td>Marc Cucurella</td>\n",
       "      <td>Chelsea</td>\n",
       "    </tr>\n",
       "  </tbody>\n",
       "</table>\n",
       "</div>"
      ],
      "text/plain": [
       "      game_id original_event_id  action_id  period_id  time_seconds  team_id  \\\n",
       "2881  1729243        2617414441       2881          2        3717.5      167   \n",
       "2882  1729243               NaN       2882          2        3719.0      167   \n",
       "2883  1729243        2617414479       2883          2        3722.0      167   \n",
       "2884  1729243        2617414477       2884          2        3722.0       15   \n",
       "2885  1729243        2617414483       2885          2        3723.0       15   \n",
       "\n",
       "      player_id       x       y     dx     dy  type_id  bodypart_id  \\\n",
       "2881   331254.0  40.215  64.804  0.000  0.000       23            0   \n",
       "2882   331254.0  40.215  64.804 -5.355 -6.392       21            0   \n",
       "2883   331254.0  34.860  58.412  0.000  0.000        7            0   \n",
       "2884   363496.0  34.860  58.412  0.000  0.000        9            0   \n",
       "2885   363496.0  35.805  55.760    NaN    NaN       21            0   \n",
       "\n",
       "              player      team  \n",
       "2881      Phil Foden  Man City  \n",
       "2882      Phil Foden  Man City  \n",
       "2883      Phil Foden  Man City  \n",
       "2884  Marc Cucurella   Chelsea  \n",
       "2885  Marc Cucurella   Chelsea  "
      ]
     },
     "execution_count": 10,
     "metadata": {},
     "output_type": "execute_result"
    }
   ],
   "source": [
    "events_atomic_spadl[-5:]"
   ]
  },
  {
   "cell_type": "code",
   "execution_count": 11,
   "metadata": {},
   "outputs": [
    {
     "name": "stdout",
     "output_type": "stream",
     "text": [
      "receival\n"
     ]
    }
   ],
   "source": [
    "print(socceraction.atomic.spadl.config.actiontypes[23])"
   ]
  },
  {
   "cell_type": "code",
   "execution_count": 12,
   "metadata": {},
   "outputs": [
    {
     "data": {
      "text/plain": [
       "['Josko Gvardiol',\n",
       " 'Kyle Walker',\n",
       " 'Ederson',\n",
       " 'Rúben Dias',\n",
       " 'Bernardo Silva',\n",
       " 'Erling Haaland',\n",
       " 'Manuel Akanji',\n",
       " 'Jérémy Doku',\n",
       " 'Julián Álvarez',\n",
       " 'Rodri',\n",
       " 'Phil Foden',\n",
       " 'Jack Grealish',\n",
       " 'Mateo Kovacic']"
      ]
     },
     "execution_count": 12,
     "metadata": {},
     "output_type": "execute_result"
    }
   ],
   "source": [
    "city_players = list(events_atomic_spadl[events_atomic_spadl['team_id'] == 167]['player'].unique())\n",
    "city_players"
   ]
  },
  {
   "cell_type": "code",
   "execution_count": 16,
   "metadata": {},
   "outputs": [
    {
     "data": {
      "image/png": "[encoded data removed]",
      "text/plain": [
       "<Figure size 640x480 with 1 Axes>"
      ]
     },
     "metadata": {},
     "output_type": "display_data"
    },
    {
     "data": {
      "image/png": "[encoded data removed]",
      "text/plain": [
       "<Figure size 640x480 with 1 Axes>"
      ]
     },
     "metadata": {},
     "output_type": "display_data"
    }
   ],
   "source": [
    "# Average positions for all players (including subs!)\n",
    "# TODO: remove subs, compute for opposition as well, compute per 10 mins\n",
    "\n",
    "def avg_loc_by_team(team_id: int):\n",
    "    avg_loc = events_atomic_spadl[events_atomic_spadl['team_id'] == team_id].groupby('player').agg({'x': 'mean', 'y': 'mean'})\n",
    "    avg_loc\n",
    "\n",
    "    pitch = get_pitch()\n",
    "\n",
    "    fig, ax = pitch.draw()\n",
    "\n",
    "    sc = pitch.scatter(x=avg_loc['x'].to_list(), \n",
    "                    y=avg_loc['y'].to_list(),\n",
    "                    # color=df_shot['color'].to_list(),\n",
    "                    # marker='football',\n",
    "                    ax=ax)\n",
    "\n",
    "    n = avg_loc.index.to_list()\n",
    "    data = sc.get_offsets()\n",
    "\n",
    "    # leg = ax.legend(borderpad=1, markerscale=0.5, labelspacing=1.5, loc='upper center', fontsize=15)\n",
    "\n",
    "    for idx,label in enumerate(n):\n",
    "        ax.annotate(label, (data[idx][0]+2, data[idx][1]))\n",
    "MC_team_id = 167\n",
    "chelsea_team_id = 15\n",
    "avg_loc_by_team(MC_team_id)\n",
    "avg_loc_by_team(chelsea_team_id)"
   ]
  },
  {
   "cell_type": "code",
   "execution_count": 18,
   "metadata": {},
   "outputs": [
    {
     "data": {
      "image/png": "[encoded data removed]",
      "text/plain": [
       "<Figure size 640x480 with 1 Axes>"
      ]
     },
     "metadata": {},
     "output_type": "display_data"
    }
   ],
   "source": [
    "# Demo that `get_pitch` produces correct results\n",
    "pitch = get_pitch()\n",
    "\n",
    "fig, ax = pitch.draw()\n",
    "\n",
    "sc = pitch.scatter(y=[10,34,65], \n",
    "                  x=[10,53,104],\n",
    "                  ax=ax)\n",
    "\n",
    "n = ['1', '2', '3']\n",
    "data = sc.get_offsets()\n",
    "\n",
    "# leg = ax.legend(borderpad=1, markerscale=0.5, labelspacing=1.5, loc='upper center', fontsize=15)\n",
    "\n",
    "for idx,label in enumerate(n):\n",
    "    ax.annotate(label, (data[idx][0]+2, data[idx][1]))"
   ]
  },
  {
   "cell_type": "code",
   "execution_count": 100,
   "metadata": {},
   "outputs": [
    {
     "data": {
      "text/html": [
       "<div>\n",
       "<style scoped>\n",
       "    .dataframe tbody tr th:only-of-type {\n",
       "        vertical-align: middle;\n",
       "    }\n",
       "\n",
       "    .dataframe tbody tr th {\n",
       "        vertical-align: top;\n",
       "    }\n",
       "\n",
       "    .dataframe thead th {\n",
       "        text-align: right;\n",
       "    }\n",
       "</style>\n",
       "<table border=\"1\" class=\"dataframe\">\n",
       "  <thead>\n",
       "    <tr style=\"text-align: right;\">\n",
       "      <th></th>\n",
       "      <th>game_id</th>\n",
       "      <th>original_event_id</th>\n",
       "      <th>action_id</th>\n",
       "      <th>period_id</th>\n",
       "      <th>time_seconds</th>\n",
       "      <th>team_id</th>\n",
       "      <th>player_id</th>\n",
       "      <th>x</th>\n",
       "      <th>y</th>\n",
       "      <th>dx</th>\n",
       "      <th>dy</th>\n",
       "      <th>type_id</th>\n",
       "      <th>bodypart_id</th>\n",
       "      <th>player</th>\n",
       "      <th>team</th>\n",
       "    </tr>\n",
       "  </thead>\n",
       "  <tbody>\n",
       "    <tr>\n",
       "      <th>731</th>\n",
       "      <td>1729243</td>\n",
       "      <td>2617318445</td>\n",
       "      <td>731</td>\n",
       "      <td>1</td>\n",
       "      <td>1443.0</td>\n",
       "      <td>167</td>\n",
       "      <td>315227.0</td>\n",
       "      <td>0.0</td>\n",
       "      <td>31.552</td>\n",
       "      <td>0.0</td>\n",
       "      <td>0.0</td>\n",
       "      <td>27</td>\n",
       "      <td>4</td>\n",
       "      <td>Erling Haaland</td>\n",
       "      <td>Man City</td>\n",
       "    </tr>\n",
       "    <tr>\n",
       "      <th>809</th>\n",
       "      <td>1729243</td>\n",
       "      <td>2617322463</td>\n",
       "      <td>809</td>\n",
       "      <td>1</td>\n",
       "      <td>1704.0</td>\n",
       "      <td>15</td>\n",
       "      <td>28550.0</td>\n",
       "      <td>105.0</td>\n",
       "      <td>35.632</td>\n",
       "      <td>0.0</td>\n",
       "      <td>0.0</td>\n",
       "      <td>27</td>\n",
       "      <td>1</td>\n",
       "      <td>Thiago Silva</td>\n",
       "      <td>Chelsea</td>\n",
       "    </tr>\n",
       "    <tr>\n",
       "      <th>1015</th>\n",
       "      <td>1729243</td>\n",
       "      <td>2617331399</td>\n",
       "      <td>1015</td>\n",
       "      <td>1</td>\n",
       "      <td>2183.0</td>\n",
       "      <td>15</td>\n",
       "      <td>97692.0</td>\n",
       "      <td>105.0</td>\n",
       "      <td>35.088</td>\n",
       "      <td>0.0</td>\n",
       "      <td>0.0</td>\n",
       "      <td>27</td>\n",
       "      <td>5</td>\n",
       "      <td>Raheem Sterling</td>\n",
       "      <td>Chelsea</td>\n",
       "    </tr>\n",
       "    <tr>\n",
       "      <th>1279</th>\n",
       "      <td>1729243</td>\n",
       "      <td>2617342415</td>\n",
       "      <td>1279</td>\n",
       "      <td>1</td>\n",
       "      <td>2727.0</td>\n",
       "      <td>167</td>\n",
       "      <td>297390.0</td>\n",
       "      <td>0.0</td>\n",
       "      <td>31.960</td>\n",
       "      <td>0.0</td>\n",
       "      <td>0.0</td>\n",
       "      <td>27</td>\n",
       "      <td>1</td>\n",
       "      <td>Manuel Akanji</td>\n",
       "      <td>Man City</td>\n",
       "    </tr>\n",
       "    <tr>\n",
       "      <th>1480</th>\n",
       "      <td>1729243</td>\n",
       "      <td>2617365595</td>\n",
       "      <td>1480</td>\n",
       "      <td>2</td>\n",
       "      <td>511.0</td>\n",
       "      <td>167</td>\n",
       "      <td>315227.0</td>\n",
       "      <td>0.0</td>\n",
       "      <td>32.232</td>\n",
       "      <td>0.0</td>\n",
       "      <td>0.0</td>\n",
       "      <td>27</td>\n",
       "      <td>2</td>\n",
       "      <td>Erling Haaland</td>\n",
       "      <td>Man City</td>\n",
       "    </tr>\n",
       "    <tr>\n",
       "      <th>2003</th>\n",
       "      <td>1729243</td>\n",
       "      <td>2617386415</td>\n",
       "      <td>2003</td>\n",
       "      <td>2</td>\n",
       "      <td>1705.0</td>\n",
       "      <td>15</td>\n",
       "      <td>426050.0</td>\n",
       "      <td>105.0</td>\n",
       "      <td>35.088</td>\n",
       "      <td>0.0</td>\n",
       "      <td>0.0</td>\n",
       "      <td>27</td>\n",
       "      <td>5</td>\n",
       "      <td>Nicolas Jackson</td>\n",
       "      <td>Chelsea</td>\n",
       "    </tr>\n",
       "    <tr>\n",
       "      <th>2623</th>\n",
       "      <td>1729243</td>\n",
       "      <td>2617404379</td>\n",
       "      <td>2623</td>\n",
       "      <td>2</td>\n",
       "      <td>2853.0</td>\n",
       "      <td>167</td>\n",
       "      <td>303139.0</td>\n",
       "      <td>0.0</td>\n",
       "      <td>31.824</td>\n",
       "      <td>0.0</td>\n",
       "      <td>0.0</td>\n",
       "      <td>27</td>\n",
       "      <td>4</td>\n",
       "      <td>Rodri</td>\n",
       "      <td>Man City</td>\n",
       "    </tr>\n",
       "    <tr>\n",
       "      <th>2811</th>\n",
       "      <td>1729243</td>\n",
       "      <td>2617410983</td>\n",
       "      <td>2811</td>\n",
       "      <td>2</td>\n",
       "      <td>3384.0</td>\n",
       "      <td>15</td>\n",
       "      <td>395692.0</td>\n",
       "      <td>105.0</td>\n",
       "      <td>36.788</td>\n",
       "      <td>0.0</td>\n",
       "      <td>0.0</td>\n",
       "      <td>27</td>\n",
       "      <td>4</td>\n",
       "      <td>Cole Palmer</td>\n",
       "      <td>Chelsea</td>\n",
       "    </tr>\n",
       "  </tbody>\n",
       "</table>\n",
       "</div>"
      ],
      "text/plain": [
       "      game_id original_event_id  action_id  period_id  time_seconds  team_id  \\\n",
       "731   1729243        2617318445        731          1        1443.0      167   \n",
       "809   1729243        2617322463        809          1        1704.0       15   \n",
       "1015  1729243        2617331399       1015          1        2183.0       15   \n",
       "1279  1729243        2617342415       1279          1        2727.0      167   \n",
       "1480  1729243        2617365595       1480          2         511.0      167   \n",
       "2003  1729243        2617386415       2003          2        1705.0       15   \n",
       "2623  1729243        2617404379       2623          2        2853.0      167   \n",
       "2811  1729243        2617410983       2811          2        3384.0       15   \n",
       "\n",
       "      player_id      x       y   dx   dy  type_id  bodypart_id  \\\n",
       "731    315227.0    0.0  31.552  0.0  0.0       27            4   \n",
       "809     28550.0  105.0  35.632  0.0  0.0       27            1   \n",
       "1015    97692.0  105.0  35.088  0.0  0.0       27            5   \n",
       "1279   297390.0    0.0  31.960  0.0  0.0       27            1   \n",
       "1480   315227.0    0.0  32.232  0.0  0.0       27            2   \n",
       "2003   426050.0  105.0  35.088  0.0  0.0       27            5   \n",
       "2623   303139.0    0.0  31.824  0.0  0.0       27            4   \n",
       "2811   395692.0  105.0  36.788  0.0  0.0       27            4   \n",
       "\n",
       "               player      team  \n",
       "731    Erling Haaland  Man City  \n",
       "809      Thiago Silva   Chelsea  \n",
       "1015  Raheem Sterling   Chelsea  \n",
       "1279    Manuel Akanji  Man City  \n",
       "1480   Erling Haaland  Man City  \n",
       "2003  Nicolas Jackson   Chelsea  \n",
       "2623            Rodri  Man City  \n",
       "2811      Cole Palmer   Chelsea  "
      ]
     },
     "execution_count": 100,
     "metadata": {},
     "output_type": "execute_result"
    }
   ],
   "source": [
    "events_atomic_spadl[events_atomic_spadl['type_id'] == 27] "
   ]
  },
  {
   "cell_type": "code",
   "execution_count": 98,
   "metadata": {},
   "outputs": [
    {
     "data": {
      "text/plain": [
       "27"
      ]
     },
     "execution_count": 98,
     "metadata": {},
     "output_type": "execute_result"
    }
   ],
   "source": [
    "socceraction.atomic.spadl.config.actiontypes.index('goal')"
   ]
  },
  {
   "cell_type": "code",
   "execution_count": 101,
   "metadata": {},
   "outputs": [
    {
     "name": "stdout",
     "output_type": "stream",
     "text": [
      "game_id                      1729243\n",
      "original_event_id         2617331399\n",
      "action_id                       1015\n",
      "period_id                          1\n",
      "time_seconds                  2183.0\n",
      "team_id                           15\n",
      "player_id                    97692.0\n",
      "x                              105.0\n",
      "y                             35.088\n",
      "dx                               0.0\n",
      "dy                               0.0\n",
      "type_id                           27\n",
      "bodypart_id                        5\n",
      "player               Raheem Sterling\n",
      "team                         Chelsea\n",
      "color                          green\n",
      "Name: 1015, dtype: object\n"
     ]
    },
    {
     "data": {
      "image/png": "[encoded data removed]",
      "text/plain": [
       "<Figure size 640x480 with 1 Axes>"
      ]
     },
     "metadata": {},
     "output_type": "display_data"
    }
   ],
   "source": [
    "from mplsoccer.pitch import Pitch\n",
    "\n",
    "# points that led to a goal at event #1015 (Sterling, goal #3)\n",
    "shot = 1015\n",
    "df_shot = events_atomic_spadl[shot-4:shot+1].copy()\n",
    "df_shot['color'] = 'red'\n",
    "df_shot.loc[shot, 'color'] = 'green'\n",
    "\n",
    "pitch = get_pitch()\n",
    "fig, ax = pitch.draw()\n",
    "\n",
    "print(df_shot.loc[shot])\n",
    "_ = pitch.scatter(x=df_shot['x'].to_list(), \n",
    "                  y=df_shot['y'].to_list(),\n",
    "                  color=df_shot['color'].to_list(),\n",
    "                  ax=ax)"
   ]
  },
  {
   "cell_type": "code",
   "execution_count": 112,
   "metadata": {},
   "outputs": [
    {
     "data": {
      "image/png": "[encoded data removed]",
      "text/plain": [
       "<Figure size 1000x750 with 1 Axes>"
      ]
     },
     "metadata": {},
     "output_type": "display_data"
    }
   ],
   "source": [
    "# Goal by Sterling\n",
    "import matplotsoccer\n",
    "\n",
    "a = df_shot\n",
    "\n",
    "# Plot the actions\n",
    "def nice_time(row):\n",
    "    return f\"{row.time_seconds}s\"\n",
    "\n",
    "a[\"nice_time\"] = a.apply(nice_time, axis=1)\n",
    "a[\"end_x\"] = a[\"x\"] + a[\"dx\"]\n",
    "a[\"end_y\"] = a[\"y\"] + a[\"dy\"]\n",
    "a[\"type\"] = a.type_id.apply(lambda x: socceraction.atomic.spadl.config.actiontypes[x])\n",
    "labels = a[[\"nice_time\", \"type\", \"player\", \"team\"]]\n",
    "\n",
    "ax = matplotsoccer.actions(\n",
    "    location=a[[\"x\", \"y\", \"end_x\", \"end_y\"]],\n",
    "    action_type=a.type_id,\n",
    "    team= a.team,\n",
    "    # result= True,\n",
    "    label=labels,\n",
    "    labeltitle=[\"time\", \"actiontype\", \"player\", \"team\"],\n",
    "    zoom=False,\n",
    "    figsize=10\n",
    ")"
   ]
  },
  {
   "cell_type": "code",
   "execution_count": null,
   "metadata": {},
   "outputs": [],
   "source": []
  }
 ],
 "metadata": {
  "kernelspec": {
   "display_name": "Python 3",
   "language": "python",
   "name": "python3"
  },
  "language_info": {
   "codemirror_mode": {
    "name": "ipython",
    "version": 3
   },
   "file_extension": ".py",
   "mimetype": "text/x-python",
   "name": "python",
   "nbconvert_exporter": "python",
   "pygments_lexer": "ipython3",
   "version": "3.11.7"
  }
 },
 "nbformat": 4,
 "nbformat_minor": 2
}
